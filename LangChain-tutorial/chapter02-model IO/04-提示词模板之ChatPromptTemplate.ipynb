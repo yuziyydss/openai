{
 "cells": [
  {
   "cell_type": "code",
   "execution_count": null,
   "id": "initial_id",
   "metadata": {
    "collapsed": true
   },
   "outputs": [],
   "source": [
    ""
   ]
  },
  {
   "metadata": {},
   "cell_type": "markdown",
   "source": [
    "# 提示词模板之ChatPromptTemplate的使用\n",
    "\n",
    "1、实例化的方式（两种方式：使用构造方法、from_messages()）\n",
    "\n",
    "2、调用提示词模板的几种方法：invoke() \\ format() \\ format_messages() \\ format_prompt()\n",
    "\n",
    "3、更丰富的实例化参数类型\n",
    "\n",
    "4、结合LLM\n",
    "\n",
    "5、插入消息列表：MessagePlaceholder\n",
    "\n",
    "## 1、实例化的方式\n",
    "\n",
    "方式1：使用构造方法"
   ],
   "id": "ed26db7e0b2084c7"
  },
  {
   "metadata": {
    "ExecuteTime": {
     "end_time": "2025-08-23T07:56:56.106893Z",
     "start_time": "2025-08-23T07:56:56.091134Z"
    }
   },
   "cell_type": "code",
   "source": [
    "from langchain_core.prompts import ChatPromptTemplate, MessagesPlaceholder\n",
    "\n",
    "# 创建实例\n",
    "chat_prompt_template = ChatPromptTemplate(\n",
    "    messages=[\n",
    "        (\"system\", \"你是一个AI助手，你的名字叫{name}\"),\n",
    "        (\"human\", \"我的问题是{question}\")\n",
    "    ],\n",
    "    input_variables=[\"name\", \"question\"],\n",
    ")\n",
    "\n",
    "response = chat_prompt_template.invoke(input={\"name\": \"小智\", \"question\": \"1 + 2 * 3 = ？\"})\n",
    "print(response)\n",
    "print(type(response))  #<class 'langchain_core.prompt_values.ChatPromptValue'>\n",
    "print(len(response.messages))\n"
   ],
   "id": "3db8a24b81178b91",
   "outputs": [
    {
     "name": "stdout",
     "output_type": "stream",
     "text": [
      "messages=[SystemMessage(content='你是一个AI助手，你的名字叫小智', additional_kwargs={}, response_metadata={}), HumanMessage(content='我的问题是1 + 2 * 3 = ？', additional_kwargs={}, response_metadata={})]\n",
      "<class 'langchain_core.prompt_values.ChatPromptValue'>\n",
      "2\n"
     ]
    }
   ],
   "execution_count": 4
  },
  {
   "metadata": {},
   "cell_type": "markdown",
   "source": "更简洁的方式：",
   "id": "13e8ac59b44fb63f"
  },
  {
   "metadata": {
    "ExecuteTime": {
     "end_time": "2025-08-23T07:58:07.076926Z",
     "start_time": "2025-08-23T07:58:07.068074Z"
    }
   },
   "cell_type": "code",
   "source": [
    "from langchain_core.prompts import ChatPromptTemplate\n",
    "\n",
    "# 创建实例\n",
    "chat_prompt_template = ChatPromptTemplate([\n",
    "    (\"system\", \"你是一个AI助手，你的名字叫{name}\"),\n",
    "    (\"human\", \"我的问题是{question}\")\n",
    "])\n",
    "\n",
    "response = chat_prompt_template.invoke({\"name\": \"小智\", \"question\": \"1 + 2 * 3 = ？\"})\n",
    "print(response)\n",
    "print(type(response))  #<class 'langchain_core.prompt_values.ChatPromptValue'>\n",
    "print(len(response.messages))\n"
   ],
   "id": "cab243dc7272441b",
   "outputs": [
    {
     "name": "stdout",
     "output_type": "stream",
     "text": [
      "messages=[SystemMessage(content='你是一个AI助手，你的名字叫小智', additional_kwargs={}, response_metadata={}), HumanMessage(content='我的问题是1 + 2 * 3 = ？', additional_kwargs={}, response_metadata={})]\n",
      "<class 'langchain_core.prompt_values.ChatPromptValue'>\n",
      "2\n"
     ]
    }
   ],
   "execution_count": 6
  },
  {
   "metadata": {},
   "cell_type": "markdown",
   "source": "方式2：调用from_message()\n",
   "id": "7c2bc18894db6e68"
  },
  {
   "metadata": {
    "ExecuteTime": {
     "end_time": "2025-08-23T08:00:11.614284Z",
     "start_time": "2025-08-23T08:00:11.608446Z"
    }
   },
   "cell_type": "code",
   "source": [
    "from langchain_core.prompts import ChatPromptTemplate\n",
    "\n",
    "# 创建实例\n",
    "# chat_prompt_template = ChatPromptTemplate([\n",
    "#         (\"system\",\"你是一个AI助手，你的名字叫{name}\"),\n",
    "#         (\"human\",\"我的问题是{question}\")\n",
    "# ])\n",
    "\n",
    "chat_prompt_template = ChatPromptTemplate.from_messages([\n",
    "    (\"system\", \"你是一个AI助手，你的名字叫{name}\"),\n",
    "    (\"human\", \"我的问题是{question}\")\n",
    "])\n",
    "\n",
    "response = chat_prompt_template.invoke({\"name\": \"小智\", \"question\": \"1 + 2 * 3 = ？\"})\n",
    "print(response)\n",
    "print(type(response))  #<class 'langchain_core.prompt_values.ChatPromptValue'>\n",
    "print(len(response.messages))"
   ],
   "id": "ffa8e852d681a54c",
   "outputs": [
    {
     "name": "stdout",
     "output_type": "stream",
     "text": [
      "messages=[SystemMessage(content='你是一个AI助手，你的名字叫小智', additional_kwargs={}, response_metadata={}), HumanMessage(content='我的问题是1 + 2 * 3 = ？', additional_kwargs={}, response_metadata={})]\n",
      "<class 'langchain_core.prompt_values.ChatPromptValue'>\n",
      "2\n"
     ]
    }
   ],
   "execution_count": 7
  },
  {
   "metadata": {},
   "cell_type": "markdown",
   "source": [
    "## 2、调用提示词模板的几种方法\n",
    "\n",
    "invoke() \\ format() \\ format_messages() \\ format_prompt()\n",
    "\n",
    "invoke()：传入的是字典，返回ChatPromptValue\n",
    "\n",
    "format():传入变量的值，返回str\n",
    "\n",
    "format_messages(): 传入变量的值，返回消息构成的list\n",
    "\n",
    "format_prompt(): 传入变量的值，返回ChatPromptValue\n",
    "\n",
    "#举例1：invoke()"
   ],
   "id": "95de9de54e3bc5ac"
  },
  {
   "metadata": {
    "ExecuteTime": {
     "end_time": "2025-08-23T08:11:37.229419Z",
     "start_time": "2025-08-23T08:11:37.221322Z"
    }
   },
   "cell_type": "code",
   "source": [
    "from langchain_core.prompts import ChatPromptTemplate\n",
    "\n",
    "# 创建实例\n",
    "\n",
    "chat_prompt_template = ChatPromptTemplate.from_messages([\n",
    "    (\"system\", \"你是一个AI助手，你的名字叫{name}\"),\n",
    "    (\"human\", \"我的问题是{question}\")\n",
    "])\n",
    "\n",
    "response = chat_prompt_template.invoke({\"name\": \"小智\", \"question\": \"1 + 2 * 3 = ？\"})\n",
    "print(response)\n",
    "print(type(response))  #<class 'langchain_core.prompt_values.ChatPromptValue'>"
   ],
   "id": "9603d0d9b9d1a238",
   "outputs": [
    {
     "name": "stdout",
     "output_type": "stream",
     "text": [
      "messages=[SystemMessage(content='你是一个AI助手，你的名字叫小智', additional_kwargs={}, response_metadata={}), HumanMessage(content='我的问题是1 + 2 * 3 = ？', additional_kwargs={}, response_metadata={})]\n",
      "<class 'langchain_core.prompt_values.ChatPromptValue'>\n"
     ]
    }
   ],
   "execution_count": 12
  },
  {
   "metadata": {},
   "cell_type": "markdown",
   "source": [
    "举例2：format()\n",
    "\n"
   ],
   "id": "7320ff72fceb4570"
  },
  {
   "metadata": {
    "ExecuteTime": {
     "end_time": "2025-08-23T08:12:20.629863Z",
     "start_time": "2025-08-23T08:12:20.614232Z"
    }
   },
   "cell_type": "code",
   "source": [
    "from langchain_core.prompts import ChatPromptTemplate\n",
    "\n",
    "# 创建实例\n",
    "\n",
    "chat_prompt_template = ChatPromptTemplate.from_messages([\n",
    "    (\"system\", \"你是一个AI助手，你的名字叫{name}\"),\n",
    "    (\"human\", \"我的问题是{question}\")\n",
    "])\n",
    "\n",
    "response = chat_prompt_template.format(name=\"小智\", question=\"1 + 2 * 3 = ？\")\n",
    "print(response)\n",
    "print(type(response))"
   ],
   "id": "34d7885a05f105de",
   "outputs": [
    {
     "name": "stdout",
     "output_type": "stream",
     "text": [
      "System: 你是一个AI助手，你的名字叫小智\n",
      "Human: 我的问题是1 + 2 * 3 = ？\n",
      "<class 'str'>\n"
     ]
    }
   ],
   "execution_count": 13
  },
  {
   "metadata": {},
   "cell_type": "markdown",
   "source": "举例3：format_messages()",
   "id": "e3083130d3e76db9"
  },
  {
   "metadata": {
    "ExecuteTime": {
     "end_time": "2025-08-23T08:13:48.812392Z",
     "start_time": "2025-08-23T08:13:48.797299Z"
    }
   },
   "cell_type": "code",
   "source": [
    "from langchain_core.prompts import ChatPromptTemplate\n",
    "\n",
    "# 创建实例\n",
    "\n",
    "chat_prompt_template = ChatPromptTemplate.from_messages([\n",
    "    (\"system\", \"你是一个AI助手，你的名字叫{name}\"),\n",
    "    (\"human\", \"我的问题是{question}\")\n",
    "])\n",
    "\n",
    "response = chat_prompt_template.format_messages(name=\"小智\", question=\"1 + 2 * 3 = ？\")\n",
    "print(response)\n",
    "print(type(response))  #from langchain_core.prompts import ChatPromptTemplate\n",
    "\n",
    "# 创建实例\n",
    "\n",
    "chat_prompt_template = ChatPromptTemplate.from_messages([\n",
    "    (\"system\", \"你是一个AI助手，你的名字叫{name}\"),\n",
    "    (\"human\", \"我的问题是{question}\")\n",
    "])\n",
    "\n",
    "response = chat_prompt_template.format_messages(name=\"小智\", question=\"1 + 2 * 3 = ？\")\n",
    "print(response)\n",
    "print(type(response))  #<class 'list'>"
   ],
   "id": "cef9cdd899d5b461",
   "outputs": [
    {
     "name": "stdout",
     "output_type": "stream",
     "text": [
      "[SystemMessage(content='你是一个AI助手，你的名字叫小智', additional_kwargs={}, response_metadata={}), HumanMessage(content='我的问题是1 + 2 * 3 = ？', additional_kwargs={}, response_metadata={})]\n",
      "<class 'list'>\n"
     ]
    }
   ],
   "execution_count": 14
  },
  {
   "metadata": {},
   "cell_type": "markdown",
   "source": [
    "举例4：format_prompt()\n",
    "\n"
   ],
   "id": "6848814ecfbfe77c"
  },
  {
   "metadata": {
    "ExecuteTime": {
     "end_time": "2025-08-23T08:15:59.550720Z",
     "start_time": "2025-08-23T08:15:59.519004Z"
    }
   },
   "cell_type": "code",
   "source": [
    "from langchain_core.prompts import ChatPromptTemplate\n",
    "\n",
    "# 创建实例\n",
    "\n",
    "chat_prompt_template = ChatPromptTemplate.from_messages([\n",
    "    (\"system\", \"你是一个AI助手，你的名字叫{name}\"),\n",
    "    (\"human\", \"我的问题是{question}\")\n",
    "])\n",
    "\n",
    "response = chat_prompt_template.format_prompt(name=\"小智\", question=\"1 + 2 * 3 = ？\")\n",
    "print(response)\n",
    "print(type(response))  #<class 'langchain_core.prompt_values.ChatPromptValue'>"
   ],
   "id": "9ec042ba02ddb0a8",
   "outputs": [
    {
     "name": "stdout",
     "output_type": "stream",
     "text": [
      "messages=[SystemMessage(content='你是一个AI助手，你的名字叫小智', additional_kwargs={}, response_metadata={}), HumanMessage(content='我的问题是1 + 2 * 3 = ？', additional_kwargs={}, response_metadata={})]\n",
      "<class 'langchain_core.prompt_values.ChatPromptValue'>\n"
     ]
    }
   ],
   "execution_count": 16
  },
  {
   "metadata": {},
   "cell_type": "markdown",
   "source": "如何实现ChatPromptValue与list[messages]、字符串之间的转换",
   "id": "33206046abb55cd8"
  },
  {
   "metadata": {
    "ExecuteTime": {
     "end_time": "2025-08-23T08:19:59.162620Z",
     "start_time": "2025-08-23T08:19:59.148623Z"
    }
   },
   "cell_type": "code",
   "source": [
    "from langchain_core.prompts import ChatPromptTemplate\n",
    "\n",
    "# 创建实例\n",
    "\n",
    "chat_prompt_template = ChatPromptTemplate.from_messages([\n",
    "    (\"system\", \"你是一个AI助手，你的名字叫{name}\"),\n",
    "    (\"human\", \"我的问题是{question}\")\n",
    "])\n",
    "\n",
    "# response = chat_prompt_template.format_prompt(name=\"小智\", question=\"1 + 2 * 3 = ？\")\n",
    "response = chat_prompt_template.invoke({\"name\": \"小智\", \"question\": \"1 + 2 * 3 = ？\"})\n",
    "\n",
    "# 将ChatPromptValue类型转换为消息构成的list\n",
    "response_messages = response.to_messages()\n",
    "# print(response_messages)\n",
    "# print(type(response_messages))\n",
    "\n",
    "# 将ChatPromptValue类型转换为字符串类型\n",
    "response_to_string = response.to_string()\n",
    "print(response_to_string)\n",
    "print(type(response_to_string))"
   ],
   "id": "f6fc61cf1763f7e",
   "outputs": [
    {
     "name": "stdout",
     "output_type": "stream",
     "text": [
      "System: 你是一个AI助手，你的名字叫小智\n",
      "Human: 我的问题是1 + 2 * 3 = ？\n",
      "<class 'str'>\n"
     ]
    }
   ],
   "execution_count": 19
  },
  {
   "metadata": {},
   "cell_type": "markdown",
   "source": [
    "## 3、更丰富的实例化参数类型\n",
    "\n",
    "本质：不管使用构造方法、还是使用from_message()来创建ChatPromptTemplate的实例，本质上来讲，传入的都是消息构成的列表。\n",
    "\n",
    "从调用上来讲，我们看到，不管使用构造方法，还是使用from_message()，messages参数的类型都是列表，但是列表的元素的类型是多样的。元素可以是：\n",
    "\n",
    "字符串类型、字典类型、消息类型、元组构成的列表（最常用、最基础、最简单）、Chat提示词模板类型、消息提示词模板类型\n",
    "\n",
    "举例1：元组构成的列表（最常用、最基础、最简单）"
   ],
   "id": "f8a09c12bcecc38a"
  },
  {
   "metadata": {},
   "cell_type": "code",
   "outputs": [],
   "execution_count": null,
   "source": [
    "from langchain_core.prompts import ChatPromptTemplate\n",
    "\n",
    "# 创建实例\n",
    "#第1种方式\n",
    "chat_prompt_template1 = ChatPromptTemplate(\n",
    "    messages=[\n",
    "        (\"system\", \"你是一个AI助手，你的名字叫{name}\"),\n",
    "        (\"human\", \"我的问题是{question}\")\n",
    "    ]\n",
    ")\n",
    "#第2种方式\n",
    "chat_prompt_template2 = ChatPromptTemplate.from_messages([\n",
    "    (\"system\", \"你是一个AI助手，你的名字叫{name}\"),\n",
    "    (\"human\", \"我的问题是{question}\")\n",
    "])\n",
    "\n",
    "#\n",
    "response = chat_prompt_template1.invoke({\"name\": \"小智\", \"question\": \"1 + 2 * 3 = ？\"})\n"
   ],
   "id": "3a01e8a53e4a67e5"
  },
  {
   "metadata": {},
   "cell_type": "markdown",
   "source": [
    "举例2：字符串\n",
    "\n"
   ],
   "id": "d934ed449fa1bd85"
  },
  {
   "metadata": {
    "ExecuteTime": {
     "end_time": "2025-08-23T08:55:15.178523Z",
     "start_time": "2025-08-23T08:55:15.162774Z"
    }
   },
   "cell_type": "code",
   "source": [
    "from langchain_core.prompts import ChatPromptTemplate\n",
    "\n",
    "# 创建实例\n",
    "chat_prompt_template = ChatPromptTemplate.from_messages([\n",
    "    \"我的问题是{question}\"  #默认的角色是：human !\n",
    "])\n",
    "\n",
    "#\n",
    "response = chat_prompt_template.invoke({\"question\": \"1 + 2 * 3 = ？\"})\n",
    "print(response)"
   ],
   "id": "7559996c5eb71e3a",
   "outputs": [
    {
     "name": "stdout",
     "output_type": "stream",
     "text": [
      "messages=[HumanMessage(content='我的问题是1 + 2 * 3 = ？', additional_kwargs={}, response_metadata={})]\n"
     ]
    }
   ],
   "execution_count": 20
  },
  {
   "metadata": {},
   "cell_type": "markdown",
   "source": "举例3：字典类型\n",
   "id": "9d1b6baaa2d9622"
  },
  {
   "metadata": {
    "ExecuteTime": {
     "end_time": "2025-08-23T08:57:39.471885Z",
     "start_time": "2025-08-23T08:57:39.456066Z"
    }
   },
   "cell_type": "code",
   "source": [
    "from langchain_core.prompts import ChatPromptTemplate\n",
    "\n",
    "# 创建实例\n",
    "chat_prompt_template = ChatPromptTemplate.from_messages([\n",
    "    {\"role\": \"system\", \"content\": \"我是一个人工智能助手，我的名字叫{name}\"},\n",
    "    {\"role\": \"human\", \"content\": \"我的问题是{question}\"},\n",
    "])\n",
    "\n",
    "#\n",
    "response = chat_prompt_template.invoke({\"name\": \"小智\", \"question\": \"1 + 2 * 3 = ？\"})\n",
    "print(response)"
   ],
   "id": "edd160d61a74e493",
   "outputs": [
    {
     "name": "stdout",
     "output_type": "stream",
     "text": [
      "messages=[SystemMessage(content='我是一个人工智能助手，我的名字叫小智', additional_kwargs={}, response_metadata={}), HumanMessage(content='我的问题是1 + 2 * 3 = ？', additional_kwargs={}, response_metadata={})]\n"
     ]
    }
   ],
   "execution_count": 21
  },
  {
   "metadata": {},
   "cell_type": "markdown",
   "source": "举例4：消息类型\n",
   "id": "ef0266351f9bc5bd"
  },
  {
   "metadata": {
    "ExecuteTime": {
     "end_time": "2025-08-23T09:12:56.009882Z",
     "start_time": "2025-08-23T09:12:55.994883Z"
    }
   },
   "cell_type": "code",
   "source": [
    "from langchain_core.messages import SystemMessage, HumanMessage\n",
    "from langchain_core.prompts import ChatPromptTemplate\n",
    "\n",
    "# 创建实例\n",
    "chat_prompt_template = ChatPromptTemplate.from_messages([\n",
    "    SystemMessage(content=\"我是一个人工智能助手，我的名字叫{name}\"),\n",
    "    HumanMessage(content=\"我的问题是{question}\")\n",
    "])\n",
    "\n",
    "#\n",
    "# response = chat_prompt_template.invoke({\"name\":\"小智\", \"question\":\"1 + 2 * 3 = ？\"})\n",
    "response = chat_prompt_template.invoke({})\n",
    "print(response)"
   ],
   "id": "62c8cc27edf8293f",
   "outputs": [
    {
     "name": "stdout",
     "output_type": "stream",
     "text": [
      "messages=[SystemMessage(content='我是一个人工智能助手，我的名字叫{name}', additional_kwargs={}, response_metadata={}), HumanMessage(content='我的问题是{question}', additional_kwargs={}, response_metadata={})]\n"
     ]
    }
   ],
   "execution_count": 32
  },
  {
   "metadata": {},
   "cell_type": "markdown",
   "source": "举例5：Chat提示词模板类型\n",
   "id": "576779e9004bc44e"
  },
  {
   "metadata": {
    "ExecuteTime": {
     "end_time": "2025-08-23T09:00:55.712090Z",
     "start_time": "2025-08-23T09:00:55.701093Z"
    }
   },
   "cell_type": "code",
   "source": [
    "from langchain_core.prompts import ChatPromptTemplate\n",
    "\n",
    "# 使用 BaseChatPromptTemplate（嵌套的 ChatPromptTemplate）\n",
    "nested_prompt_template1 = ChatPromptTemplate.from_messages([\n",
    "    (\"system\", \"我是一个人工智能助手，我的名字叫{name}\")\n",
    "])\n",
    "nested_prompt_template2 = ChatPromptTemplate.from_messages([\n",
    "    (\"human\", \"很高兴认识你,我的问题是{question}\")\n",
    "])\n",
    "\n",
    "prompt_template = ChatPromptTemplate.from_messages([\n",
    "    nested_prompt_template1,\n",
    "    nested_prompt_template2\n",
    "])\n",
    "\n",
    "prompt_template.format_messages(name=\"小智\", question=\"你为什么这么帅？\")"
   ],
   "id": "c19b8db4793625ca",
   "outputs": [
    {
     "data": {
      "text/plain": [
       "[SystemMessage(content='我是一个人工智能助手，我的名字叫小智', additional_kwargs={}, response_metadata={}),\n",
       " HumanMessage(content='很高兴认识你,我的问题是你为什么这么帅？', additional_kwargs={}, response_metadata={})]"
      ]
     },
     "execution_count": 23,
     "metadata": {},
     "output_type": "execute_result"
    }
   ],
   "execution_count": 23
  },
  {
   "metadata": {},
   "cell_type": "markdown",
   "source": "举例6：消息提示词模板类型",
   "id": "78f8409d471aa8e0"
  },
  {
   "metadata": {
    "ExecuteTime": {
     "end_time": "2025-08-23T09:07:48.188459Z",
     "start_time": "2025-08-23T09:07:48.170405Z"
    }
   },
   "cell_type": "code",
   "source": [
    "# 导入聊天消息类模板\n",
    "from langchain_core.prompts import ChatPromptTemplate, HumanMessagePromptTemplate, SystemMessagePromptTemplate\n",
    "\n",
    "# 创建消息模板\n",
    "system_template = \"你是一个专家{role}\"\n",
    "system_message_prompt = SystemMessagePromptTemplate.from_template(system_template)\n",
    "\n",
    "human_template = \"给我解释{concept}，用浅显易懂的语言\"\n",
    "human_message_prompt = HumanMessagePromptTemplate.from_template(human_template)\n",
    "\n",
    "# 组合成聊天提示模板\n",
    "chat_prompt = ChatPromptTemplate.from_messages([\n",
    "    system_message_prompt, human_message_prompt\n",
    "])\n",
    "\n",
    "# 格式化提示\n",
    "formatted_messages = chat_prompt.format_messages(\n",
    "    role=\"物理学家\",\n",
    "    concept=\"相对论\"\n",
    ")\n",
    "print(formatted_messages)"
   ],
   "id": "9cb2a28bb5df77f3",
   "outputs": [
    {
     "name": "stdout",
     "output_type": "stream",
     "text": [
      "[SystemMessage(content='你是一个专家物理学家', additional_kwargs={}, response_metadata={}), HumanMessage(content='给我解释相对论，用浅显易懂的语言', additional_kwargs={}, response_metadata={})]\n"
     ]
    }
   ],
   "execution_count": 29
  },
  {
   "metadata": {},
   "cell_type": "markdown",
   "source": "## 4、结合LLM",
   "id": "c8d779a794a70126"
  },
  {
   "metadata": {
    "ExecuteTime": {
     "end_time": "2025-08-23T09:36:58.658316Z",
     "start_time": "2025-08-23T09:36:56.309265Z"
    }
   },
   "cell_type": "code",
   "source": [
    "# 1、提供大模型\n",
    "from langchain_openai import ChatOpenAI\n",
    "import os\n",
    "import dotenv\n",
    "\n",
    "#加载配置文件\n",
    "dotenv.load_dotenv()\n",
    "\n",
    "os.environ[\"OPENAI_BASE_URL\"] = os.getenv(\"OPENAI_BASE_URL\")\n",
    "os.environ[\"OPENAI_API_KEY\"] = os.getenv(\"OPENAI_API_KEY1\")\n",
    "\n",
    "# 获取对话模型：\n",
    "chat_model = ChatOpenAI(\n",
    "    model=\"gpt-4o-mini\"\n",
    ")\n",
    "\n",
    "# 2、通过Chat提示词模板，创建提示词\n",
    "from langchain_core.prompts import ChatPromptTemplate\n",
    "\n",
    "# 创建实例\n",
    "chat_prompt_template = ChatPromptTemplate.from_messages([\n",
    "    (\"system\", \"你是一个AI助手，你的名字叫{name}\"),\n",
    "    (\"human\", \"我的问题是{question}\")\n",
    "])\n",
    "\n",
    "prompt_response = chat_prompt_template.invoke({\"name\": \"小智\", \"question\": \"1 + 2 * 3 = ？\"})\n",
    "\n",
    "# 3、通过大模型调用提示词，得到响应数据\n",
    "response = chat_model.invoke(prompt_response)\n",
    "print(response)"
   ],
   "id": "56b44f2d47a3e34b",
   "outputs": [
    {
     "name": "stdout",
     "output_type": "stream",
     "text": [
      "content='根据运算顺序，首先计算乘法，再计算加法。\\n\\n所以：\\n1 + 2 * 3 = 1 + 6 = 7\\n\\n答案是7。' additional_kwargs={'refusal': None} response_metadata={'token_usage': {'completion_tokens': 39, 'prompt_tokens': 35, 'total_tokens': 74, 'completion_tokens_details': {'accepted_prediction_tokens': 0, 'audio_tokens': 0, 'reasoning_tokens': 0, 'rejected_prediction_tokens': 0}, 'prompt_tokens_details': {'audio_tokens': 0, 'cached_tokens': 0}}, 'model_name': 'gpt-4o-mini-2024-07-18', 'system_fingerprint': 'fp_efad92c60b', 'id': 'chatcmpl-C7eyBoZ4oBRoEYb1BzgWYfqXZvJQA', 'service_tier': None, 'finish_reason': 'stop', 'logprobs': None} id='run--ee6524a9-9df4-4058-9220-99e86e13ec84-0' usage_metadata={'input_tokens': 35, 'output_tokens': 39, 'total_tokens': 74, 'input_token_details': {'audio': 0, 'cache_read': 0}, 'output_token_details': {'audio': 0, 'reasoning': 0}}\n"
     ]
    }
   ],
   "execution_count": 33
  },
  {
   "metadata": {},
   "cell_type": "markdown",
   "source": [
    "## 5、插入消息列表：MessagePlaceholder\n",
    "\n",
    "使用场景：当ChatPromptTemplatem模板中的消息类型和个数不确定的时候，我们就可以使用MessagePlaceholder。\n",
    "\n",
    "举例1：\n",
    "\n",
    "\n"
   ],
   "id": "1a3a0ef61e96b096"
  },
  {
   "metadata": {
    "ExecuteTime": {
     "end_time": "2025-08-23T09:44:02.956529Z",
     "start_time": "2025-08-23T09:44:02.943207Z"
    }
   },
   "cell_type": "code",
   "source": [
    "from langchain_core.prompts import ChatPromptTemplate\n",
    "from langchain_core.prompts.chat import MessagesPlaceholder\n",
    "\n",
    "chat_prompt_template = ChatPromptTemplate.from_messages([\n",
    "    (\"system\", \"你是一个AI助手，你的名字叫{name}\"),\n",
    "    MessagesPlaceholder(variable_name=\"msgs\")\n",
    "])\n",
    "\n",
    "chat_prompt_template.invoke({\n",
    "    \"name\": \"小智\",\n",
    "    \"msgs\": [HumanMessage(content=\"我的问题是：1 + 2 * 3 = ?\")]\n",
    "})"
   ],
   "id": "d07775068a900a65",
   "outputs": [
    {
     "data": {
      "text/plain": [
       "ChatPromptValue(messages=[SystemMessage(content='你是一个AI助手，你的名字叫小智', additional_kwargs={}, response_metadata={}), HumanMessage(content='我的问题是：1 + 2 * 3 = ?', additional_kwargs={}, response_metadata={})])"
      ]
     },
     "execution_count": 35,
     "metadata": {},
     "output_type": "execute_result"
    }
   ],
   "execution_count": 35
  },
  {
   "metadata": {},
   "cell_type": "markdown",
   "source": "举例2：",
   "id": "b4f9cc0db3c1b3ef"
  },
  {
   "metadata": {
    "ExecuteTime": {
     "end_time": "2025-08-23T09:44:55.953133Z",
     "start_time": "2025-08-23T09:44:55.933533Z"
    }
   },
   "cell_type": "code",
   "source": [
    "from langchain_core.messages import AIMessage\n",
    "from langchain_core.prompts import ChatPromptTemplate\n",
    "from langchain_core.prompts.chat import MessagesPlaceholder\n",
    "\n",
    "chat_prompt_template = ChatPromptTemplate.from_messages([\n",
    "    (\"system\", \"你是一个AI助手，你的名字叫{name}\"),\n",
    "    MessagesPlaceholder(variable_name=\"msgs\")\n",
    "])\n",
    "\n",
    "chat_prompt_template.invoke({\n",
    "    \"name\": \"小智\",\n",
    "    \"msgs\": [HumanMessage(content=\"我的问题是：1 + 2 * 3 = ?\"),AIMessage(content=\"1 + 2 * 3 = 7\")]\n",
    "})"
   ],
   "id": "39615bcf32c15e95",
   "outputs": [
    {
     "data": {
      "text/plain": [
       "ChatPromptValue(messages=[SystemMessage(content='你是一个AI助手，你的名字叫小智', additional_kwargs={}, response_metadata={}), HumanMessage(content='我的问题是：1 + 2 * 3 = ?', additional_kwargs={}, response_metadata={}), AIMessage(content='1 + 2 * 3 = 7', additional_kwargs={}, response_metadata={})])"
      ]
     },
     "execution_count": 36,
     "metadata": {},
     "output_type": "execute_result"
    }
   ],
   "execution_count": 36
  },
  {
   "metadata": {},
   "cell_type": "markdown",
   "source": "举例3：存储对话历史记录",
   "id": "9cab7e90b9c510aa"
  },
  {
   "metadata": {
    "ExecuteTime": {
     "end_time": "2025-08-23T09:49:22.189189Z",
     "start_time": "2025-08-23T09:49:22.178279Z"
    }
   },
   "cell_type": "code",
   "source": [
    "from langchain_core.prompts import ChatPromptTemplate, MessagesPlaceholder\n",
    "from langchain_core.messages import AIMessage\n",
    "\n",
    "prompt = ChatPromptTemplate.from_messages(\n",
    "    [\n",
    "        (\"system\", \"You are a helpful assistant.\"),\n",
    "        MessagesPlaceholder(\"history\"),\n",
    "        (\"human\", \"{question}\")\n",
    "    ]\n",
    ")\n",
    "\n",
    "prompt_value = prompt.format_messages(\n",
    "    history=[HumanMessage(content=\"1+2*3 = ?\"),AIMessage(content=\"1+2*3=7\")],\n",
    "    question=\"我刚才问题是什么？\")\n",
    "\n",
    "print(prompt_value)\n",
    "\n",
    "# prompt.invoke(\n",
    "#     {\n",
    "#         \"history\": [(\"human\", \"what's 5 + 2\"), (\"ai\", \"5 + 2 is 7\")],\n",
    "#         \"question\": \"now multiply that by 4\"\n",
    "#     }\n",
    "# )"
   ],
   "id": "4b0cab0ea1e8fceb",
   "outputs": [
    {
     "name": "stdout",
     "output_type": "stream",
     "text": [
      "[SystemMessage(content='You are a helpful assistant.', additional_kwargs={}, response_metadata={}), HumanMessage(content='1+2*3 = ?', additional_kwargs={}, response_metadata={}), AIMessage(content='1+2*3=7', additional_kwargs={}, response_metadata={}), HumanMessage(content='我刚才问题是什么？', additional_kwargs={}, response_metadata={})]\n"
     ]
    }
   ],
   "execution_count": 38
  },
  {
   "metadata": {
    "ExecuteTime": {
     "end_time": "2025-08-23T09:49:28.323955Z",
     "start_time": "2025-08-23T09:49:26.938554Z"
    }
   },
   "cell_type": "code",
   "source": [
    "\n",
    "from langchain_openai import ChatOpenAI\n",
    "import os\n",
    "import dotenv\n",
    "\n",
    "#加载配置文件\n",
    "dotenv.load_dotenv()\n",
    "\n",
    "os.environ[\"OPENAI_BASE_URL\"] = os.getenv(\"OPENAI_BASE_URL\")\n",
    "os.environ[\"OPENAI_API_KEY\"] = os.getenv(\"OPENAI_API_KEY1\")\n",
    "\n",
    "# 获取对话模型：\n",
    "chat_model = ChatOpenAI(\n",
    "    model=\"gpt-4o-mini\"\n",
    ")\n",
    "\n",
    "chat_model.invoke(prompt_value)"
   ],
   "id": "64e33a6aabbaccd4",
   "outputs": [
    {
     "data": {
      "text/plain": [
       "AIMessage(content='你刚才问的问题是“1+2*3 = ?”。这是一个数学表达式，结果是7，因为按照运算顺序，先计算乘法，再计算加法。', additional_kwargs={'refusal': None}, response_metadata={'token_usage': {'completion_tokens': 41, 'prompt_tokens': 45, 'total_tokens': 86, 'completion_tokens_details': {'accepted_prediction_tokens': 0, 'audio_tokens': 0, 'reasoning_tokens': 0, 'rejected_prediction_tokens': 0}, 'prompt_tokens_details': {'audio_tokens': 0, 'cached_tokens': 0}}, 'model_name': 'gpt-4o-mini-2024-07-18', 'system_fingerprint': 'fp_efad92c60b', 'id': 'chatcmpl-C7fAHDJiMfEZ4RyHo5lZ7sEOIDE1G', 'service_tier': None, 'finish_reason': 'stop', 'logprobs': None}, id='run--45d7ab91-e19d-417b-b026-00a5f070ff04-0', usage_metadata={'input_tokens': 45, 'output_tokens': 41, 'total_tokens': 86, 'input_token_details': {'audio': 0, 'cache_read': 0}, 'output_token_details': {'audio': 0, 'reasoning': 0}})"
      ]
     },
     "execution_count": 39,
     "metadata": {},
     "output_type": "execute_result"
    }
   ],
   "execution_count": 39
  }
 ],
 "metadata": {
  "kernelspec": {
   "display_name": "Python 3",
   "language": "python",
   "name": "python3"
  },
  "language_info": {
   "codemirror_mode": {
    "name": "ipython",
    "version": 2
   },
   "file_extension": ".py",
   "mimetype": "text/x-python",
   "name": "python",
   "nbconvert_exporter": "python",
   "pygments_lexer": "ipython2",
   "version": "2.7.6"
  }
 },
 "nbformat": 4,
 "nbformat_minor": 5
}
