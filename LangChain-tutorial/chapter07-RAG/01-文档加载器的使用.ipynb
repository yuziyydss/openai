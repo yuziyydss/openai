{
 "cells": [
  {
   "cell_type": "code",
   "execution_count": null,
   "id": "initial_id",
   "metadata": {
    "collapsed": true
   },
   "outputs": [],
   "source": [
    ""
   ]
  },
  {
   "metadata": {},
   "cell_type": "markdown",
   "source": [
    "1、不同的文档，使用不同的文档加载器 （熟悉）\n",
    "\n",
    "txt文档：TextLoader\n",
    "\n",
    "pdf文档：PyPDFLoader\n",
    "\n",
    "csv文档：CSVLoader\n",
    "\n",
    "json文档：JSONLoader\n",
    "\n",
    "html文档：UnstructuredHTMLLoader\n",
    "\n",
    "md文档：UnStructuredMarkdownLoader\n",
    "\n",
    "文件目录：DirectoryLoader\n",
    "\n",
    "\n",
    "2、创建好XxxLoader的实例以后，都需要调用load()，在内存中返回一个list[Document]\n",
    "\n",
    "\n",
    "\n",
    "\n",
    "\n"
   ],
   "id": "678dac49277efaf2"
  },
  {
   "metadata": {},
   "cell_type": "markdown",
   "source": [
    "# 1、加载Txt文档\n",
    "\n"
   ],
   "id": "74fcf2f817ac71f0"
  },
  {
   "metadata": {
    "ExecuteTime": {
     "end_time": "2025-09-10T08:28:19.044703Z",
     "start_time": "2025-09-10T08:28:18.436268Z"
    }
   },
   "cell_type": "code",
   "source": [
    "from langchain_community.document_loaders import TextLoader, PyPDFLoader\n",
    "\n",
    "# 指明txt文档的路径\n",
    "file_path = \"./asset/load/01-langchain-utf-8.txt\"\n",
    "\n",
    "# 创建一个TextLoader的实例\n",
    "text_loader = TextLoader(\n",
    "    file_path=file_path,\n",
    "    encoding=\"utf-8\",\n",
    ")\n",
    "\n",
    "# 调用load()，返回一个list[Document]\n",
    "docs = text_loader.load()\n"
   ],
   "id": "8c7b9c7aa0e63445",
   "outputs": [],
   "execution_count": 1
  },
  {
   "metadata": {
    "ExecuteTime": {
     "end_time": "2025-09-09T12:39:30.960624Z",
     "start_time": "2025-09-09T12:39:30.944604Z"
    }
   },
   "cell_type": "code",
   "source": [
    "print(docs)\n",
    "\n",
    "print(len(docs))  # 查看列表中元素的个数‘\n",
    "\n",
    "print(docs[0])"
   ],
   "id": "b417ec8a859074b9",
   "outputs": [
    {
     "name": "stdout",
     "output_type": "stream",
     "text": [
      "[Document(metadata={'source': './asset/load/01-langchain-utf-8.txt'}, page_content='LangChain 是一个用于构建基于大语言模型（LLM）应用的开发框架，旨在帮助开发者更高效地集成、管理和增强大语言模型的能力，构建端到端的应用程序。它提供了一套模块化工具和接口，支持从简单的文本生成到复杂的多步骤推理任务')]\n",
      "1\n",
      "page_content='LangChain 是一个用于构建基于大语言模型（LLM）应用的开发框架，旨在帮助开发者更高效地集成、管理和增强大语言模型的能力，构建端到端的应用程序。它提供了一套模块化工具和接口，支持从简单的文本生成到复杂的多步骤推理任务' metadata={'source': './asset/load/01-langchain-utf-8.txt'}\n"
     ]
    }
   ],
   "execution_count": 5
  },
  {
   "metadata": {
    "ExecuteTime": {
     "end_time": "2025-09-09T12:40:12.394370Z",
     "start_time": "2025-09-09T12:40:12.388321Z"
    }
   },
   "cell_type": "code",
   "source": [
    "# 显示Document对象的元数据\n",
    "print(docs[0].metadata)\n",
    "\n",
    "# 显示文档中的内容信息\n",
    "print(docs[0].page_content)"
   ],
   "id": "ddda0341a04f0dc0",
   "outputs": [
    {
     "name": "stdout",
     "output_type": "stream",
     "text": [
      "{'source': './asset/load/01-langchain-utf-8.txt'}\n",
      "LangChain 是一个用于构建基于大语言模型（LLM）应用的开发框架，旨在帮助开发者更高效地集成、管理和增强大语言模型的能力，构建端到端的应用程序。它提供了一套模块化工具和接口，支持从简单的文本生成到复杂的多步骤推理任务\n"
     ]
    }
   ],
   "execution_count": 6
  },
  {
   "metadata": {
    "ExecuteTime": {
     "end_time": "2025-09-09T12:41:37.055618Z",
     "start_time": "2025-09-09T12:41:37.051612Z"
    }
   },
   "cell_type": "code",
   "source": [
    "from langchain_community.document_loaders import TextLoader\n",
    "\n",
    "# 指明txt文档的路径\n",
    "file_path = \"./asset/load/01-langchain-gbk.txt\"\n",
    "\n",
    "# 创建一个TextLoader的实例\n",
    "text_loader = TextLoader(\n",
    "    file_path=file_path,\n",
    "    encoding=\"gbk\",  #此时使用的解码集一定要与当初存储此文件使用的编码集相同，否则报错！\n",
    ")\n",
    "\n",
    "# 调用load()，返回一个list[Document]\n",
    "docs = text_loader.load()\n",
    "\n",
    "print(docs)\n"
   ],
   "id": "aaef2eae62df3309",
   "outputs": [
    {
     "name": "stdout",
     "output_type": "stream",
     "text": [
      "[Document(metadata={'source': './asset/load/01-langchain-gbk.txt'}, page_content='LangChain 是一个用于构建基于大语言模型（LLM）应用的开发框架，旨在帮助开发者更高效地集成、管理和增强大语言模型的能力，构建端到端的应用程序。它提供了一套模块化工具和接口，支持从简单的文本生成到复杂的多步骤推理任务')]\n"
     ]
    }
   ],
   "execution_count": 9
  },
  {
   "metadata": {},
   "cell_type": "markdown",
   "source": "# 2、加载pdf文档\n",
   "id": "56c369a9d2e30978"
  },
  {
   "metadata": {
    "ExecuteTime": {
     "end_time": "2025-09-09T12:58:09.657548Z",
     "start_time": "2025-09-09T12:58:09.639583Z"
    }
   },
   "cell_type": "code",
   "source": [
    "from langchain_community.document_loaders.pdf import PyPDFLoader\n",
    "\n",
    "pdf_loader = PyPDFLoader(\n",
    "    file_path=\"./asset/load/02-load.pdf\"\n",
    ")\n",
    "\n",
    "docs = pdf_loader.load()\n",
    "\n",
    "print(docs)\n",
    "\n",
    "print(len(docs))"
   ],
   "id": "af82590e53a6dd70",
   "outputs": [
    {
     "name": "stdout",
     "output_type": "stream",
     "text": [
      "[Document(metadata={'producer': 'Microsoft® Word 2019', 'creator': 'Microsoft® Word 2019', 'creationdate': '2025-06-20T17:18:19+08:00', 'moddate': '2025-06-20T17:18:19+08:00', 'source': './asset/load/02-load.pdf', 'total_pages': 1, 'page': 0, 'page_label': '1'}, page_content='\"他的车，他的命！ 他忽然想起来，一年，二年，至少有三四年；一滴汗，两滴汗，不\\n知道多少万滴汗，才挣出那辆车。从风里雨里的咬牙，从饭里茶里的自苦，才赚出那辆车。\\n那辆车是他的一切挣扎与困苦的总结果与报酬，像身经百战的武士的一颗徽章。……他老想\\n着远远的一辆车，可以使他自由，独立，像自己的手脚的那么一辆车。\" \\n \\n\"他吃，他喝，他嫖，他赌，他懒，他狡猾， 因为他没了心，他的心被人家摘了去。他\\n只剩下那个高大的肉架子，等着溃烂，预备着到乱死岗子去。……体面的、要强的、好梦想\\n的、利己的、个人的、健壮的、伟大的祥子，不知陪着人家送了多少回殡；不知道何时何地\\n会埋起他自己来， 埋起这堕落的、 自私的、 不幸的、 社会病胎里的产儿， 个人主义的末路鬼！\\n\"')]\n",
      "1\n"
     ]
    }
   ],
   "execution_count": 14
  },
  {
   "metadata": {},
   "cell_type": "markdown",
   "source": "也可以加载网络中的一个文件：",
   "id": "c97b6ba0efb27383"
  },
  {
   "metadata": {
    "ExecuteTime": {
     "end_time": "2025-09-09T12:58:26.454049Z",
     "start_time": "2025-09-09T12:58:25.547374Z"
    }
   },
   "cell_type": "code",
   "source": [
    "from langchain_community.document_loaders.pdf import PyPDFLoader\n",
    "\n",
    "pdf_loader = PyPDFLoader(\n",
    "    file_path=\"https://arxiv.org/pdf/2302.03803\"\n",
    ")\n",
    "\n",
    "docs = pdf_loader.load()\n",
    "\n",
    "print(len(docs))\n",
    "\n",
    "for doc in docs:\n",
    "    print(doc)"
   ],
   "id": "c2bd0e2d15bb4149",
   "outputs": [
    {
     "name": "stdout",
     "output_type": "stream",
     "text": [
      "8\n",
      "page_content='arXiv:2302.03803v1  [math.AG]  7 Feb 2023\n",
      "A WEAK (k, k )-LEFSCHETZ THEOREM FOR PROJECTIVE\n",
      "TORIC ORBIFOLDS\n",
      "William D. Montoya\n",
      "Instituto de Matem´ atica, Estat´ ıstica e Computa¸ c˜ ao Cient´ ıﬁca,\n",
      "Universidade Estadual de Campinas (UNICAMP),\n",
      "Rua S´ ergio Buarque de Holanda 651, 13083-859, Campinas, SP , Brazil\n",
      "February 9, 2023\n",
      "Abstract\n",
      "Firstly we show a generalization of the (1,1)-Lefschetz theorem for projective\n",
      "toric orbifolds and secondly we prove that on 2k-dimensional quasi-smooth hyper-\n",
      "surfaces coming from quasi-smooth intersection surfaces, under the Cayley trick,\n",
      "every rational (k, k)-cohomology class is algebraic, i.e., the Hodge conjectureholds\n",
      "on them.\n",
      "1 Introduction\n",
      "In [3] we proved that, under suitable conditions, on a very general codimension s quasi-\n",
      "smooth intersection subvariety X in a projective toric orbifold Pd\n",
      "Σ with d +s = 2(k +1)\n",
      "the Hodge conjecture holds, that is, every (p, p )-cohomology class, under the Poincar´ e\n",
      "duality is a rational linear combination of fundamental classes of alge braic subvarieties\n",
      "of X. The proof of the above-mentioned result relies, for p ≠ d +1 − s, on a Lefschetz\n",
      "Date: February 9, 2023\n",
      "2020 Mathematics Subject Classiﬁcation: 14C30, 14M10, 14J70, 14M25\n",
      "Keywords: (1,1)- Lefschetz theorem, Hodge conjecture, toric varieties, complete intersection\n",
      "Email: wmontoya@ime.unicamp.br\n",
      "1' metadata={'producer': 'dvips + GPL Ghostscript GIT PRERELEASE 9.22', 'creator': 'LaTeX with hyperref', 'creationdate': '2023-02-08T20:27:28-05:00', 'moddate': '2023-02-08T20:27:28-05:00', 'title': '', 'subject': '', 'author': '', 'keywords': '', 'source': 'https://arxiv.org/pdf/2302.03803', 'total_pages': 8, 'page': 0, 'page_label': '1'}\n",
      "page_content='theorem ([7]) and the Hard Lefschetz theorem for projective orb ifolds ([11]). When p =\n",
      "d +1 −s the proof relies on the Cayley trick, a trick which associates to X a quasi-smooth\n",
      "hypersurface Y in a projective vector bundle, and the Cayley Proposition (4.3) which\n",
      "gives an isomorphism of some primitive cohomologies (4.2) of X and Y . The Cayley\n",
      "trick, following the philosophy of Mavlyutov in [7], reduces results kn own for quasi-smooth\n",
      "hypersurfaces to quasi-smooth intersection subvarieties. The id ea in this paper goes the\n",
      "other way around, we translate some results for quasi-smooth int ersection subvarieties to\n",
      "quasi-smooth hypersurfaces, mainly the (1, 1)-Lefschetz theorem.\n",
      "Acknowledgement. I thank Prof. Ugo Bruzzo and Tiago Fonseca for useful discus-\n",
      "sions. I also acknowledge support from FAPESP postdoctoral gra nt No. 2019/23499-7.\n",
      "2 Preliminaries and Notation\n",
      "2.1 Toric varieties\n",
      "Let M be a free abelian group of rank d, let N =Hom(M, Z ), and NR =N ⊗Z R.\n",
      "Deﬁnition 2.1. • A convex subset σ ⊂NR is a rational k-dimensional simplicial cone\n",
      "if there exist k linearly independent primitive elements e1, . . . , e k ∈ N such that σ =\n",
      "{µ1e1 +⋯+ µkek}.\n",
      "• The generators ei are integral if for every i and any nonnegative rational number µ\n",
      "the product µei is in N only if µ is an integer.\n",
      "• Given two rational simplicial cones σ, σ′ one says that σ′ is a face of σ (σ′ < σ) if\n",
      "the set of integral generators of σ′ is a subset of the set of integral generators of σ.\n",
      "• A ﬁnite set Σ ={σ1, . . . , σ t} of rational simplicial cones is called a rational simplicia l\n",
      "complete d-dimensional fan if:\n",
      "1. all faces of cones in Σ are in Σ ;\n",
      "2. if σ, σ ′ ∈Σ then σ ∩σ′ <σ and σ ∩σ′ <σ′;\n",
      "3. NR =σ1 ∪⋅⋅⋅∪ σt.\n",
      "A rational simplicial complete d-dimensional fan Σ deﬁnes a d-dimensional toric variety\n",
      "Pd\n",
      "Σ having only orbifold singularities which we assume to be projective. Mo reover, T ∶=\n",
      "N ⊗Z C∗ ≃ (C∗)d is the torus action on Pd\n",
      "Σ . We denote by Σ (i) the i-dimensional cones\n",
      "2' metadata={'producer': 'dvips + GPL Ghostscript GIT PRERELEASE 9.22', 'creator': 'LaTeX with hyperref', 'creationdate': '2023-02-08T20:27:28-05:00', 'moddate': '2023-02-08T20:27:28-05:00', 'title': '', 'subject': '', 'author': '', 'keywords': '', 'source': 'https://arxiv.org/pdf/2302.03803', 'total_pages': 8, 'page': 1, 'page_label': '2'}\n",
      "page_content='of Σ and each ρ ∈Σ corresponds to an irreducible T -invariant Weil divisor Dρ on Pd\n",
      "Σ . Let\n",
      "Cl(Σ ) be the group of Weil divisors on Pd\n",
      "Σ module rational equivalences.\n",
      "The total coordinate ring of Pd\n",
      "Σ is the polynomial ring S = C[xρ /divides.alt0 ρ ∈ Σ (1)], S has the\n",
      "Cl(Σ )-grading, a Weil divisor D =∑ρ∈Σ (1) uρDρ determines the monomial xu ∶=∏ρ∈Σ (1) xuρ\n",
      "ρ ∈\n",
      "S and conversely deg (xu)=[D]∈Cl(Σ ).\n",
      "For a cone σ ∈ Σ, ˆσ is the set of 1-dimensional cone in Σ that are not contained in σ\n",
      "and xˆσ ∶=∏ρ∈ˆσ xρ is the associated monomial in S.\n",
      "Deﬁnition 2.2. The irrelevant ideal of Pd\n",
      "Σ is the monomial ideal BΣ ∶=< xˆσ /divides.alt0 σ ∈ Σ > and\n",
      "the zero locus Z(Σ )∶=V(BΣ ) in the aﬃne space Ad ∶=Spec(S) is the irrelevant locus.\n",
      "Proposition 2.3 (Theorem 5.1.11 [5]) . The toric variety Pd\n",
      "Σ is a categorical quotient\n",
      "Ad ∖Z(Σ ) by the group Hom(Cl(Σ ), C∗) and the group action is induced by the Cl(Σ )-\n",
      "grading of S.\n",
      "2.2 Orbifolds\n",
      "Now we give a brief introduction to complex orbifolds and we mention th e needed theorems\n",
      "for the next section. Namely: de Rham theorem and Dolbeault theor em for complex\n",
      "orbifolds.\n",
      "Deﬁnition 2.4. A complex orbifold of complex dimension d is a singular complex space\n",
      "whose singularities are locally isomorphic to quotient sin gularities Cd/slash.left G, for ﬁnite sub-\n",
      "groups G ⊂Gl(d, C).\n",
      "Deﬁnition 2.5. A diﬀerential form on a complex orbifold Z is deﬁned locally at z ∈Z as\n",
      "a G-invariant diﬀerential form on Cd where G ⊂ Gl(d, C) and Z is locally isomorphic to\n",
      "Cd/slash.left G around z.\n",
      "Roughly speaking the local geometry of orbifolds reduces to local G-invariant geometry.\n",
      "We have a complex of diﬀerential forms (A●(Z), d )and a double complex (A●, ●(Z), ∂, ¯∂)\n",
      "of bigraded diﬀerential forms which deﬁne the de Rham and the Dolbe ault cohomology\n",
      "groups (for a ﬁxed p ∈N) respectively:\n",
      "H●\n",
      "dR(Z, C)∶= kerd\n",
      "im d and Hp, ●(Z, ¯∂)∶= ker ¯∂\n",
      "im ¯∂\n",
      "Theorem 2.6 (Theorem 3.4.4 in [4] and Theorem 1.2 in [1] ) . Let Z be a compact complex\n",
      "orbifold. There are natural isomorphisms:\n",
      "3' metadata={'producer': 'dvips + GPL Ghostscript GIT PRERELEASE 9.22', 'creator': 'LaTeX with hyperref', 'creationdate': '2023-02-08T20:27:28-05:00', 'moddate': '2023-02-08T20:27:28-05:00', 'title': '', 'subject': '', 'author': '', 'keywords': '', 'source': 'https://arxiv.org/pdf/2302.03803', 'total_pages': 8, 'page': 2, 'page_label': '3'}\n",
      "page_content='• H●\n",
      "dR(Z, C)≃H●(Z, C)\n",
      "• Hp, ●(Z, ¯∂)≃H●(X, Ω p\n",
      "Z )\n",
      "3 (1,1)-Lefschetz theorem for projective toric orbifolds\n",
      "Deﬁnition 3.1. A subvariety X ⊂Pd\n",
      "Σ is quasi-smooth if V(IX )⊂A#Σ (1) is smooth outside\n",
      "Z(Σ ).\n",
      "Example 3.2. Quasi-smooth hypersurfaces or more generally quasi-smooth inte rsection sub-\n",
      "varieties are quasi-smooth subvarieties (see [2] or [7] for more det ails).\n",
      "△\n",
      "Remark 3.3. Quasi-smooth subvarieties are suborbifolds of Pd\n",
      "Σ in the sense of Satake in [8].\n",
      "Intuitively speaking they are subvarieties whose only singularities co me from the ambient\n",
      "space.\n",
      "△\n",
      "Theorem 3.4. Let X ⊂ Pd\n",
      "Σ be a quasi-smooth subvariety. Then every (1, 1)-cohomology\n",
      "class λ ∈H1, 1(X)∩H2(X, Z) is algebraic\n",
      "Proof. From the exponential short exact sequence\n",
      "0 →Z →OX →O∗\n",
      "X →0\n",
      "we have a long exact sequence in cohomology\n",
      "H1(O∗\n",
      "X )→H2(X, Z) →H2(OX )≃H0, 2(X)\n",
      "where the last isomorphisms is due to Steenbrink in [9]. Now, it is enoug h to prove the\n",
      "commutativity of the next diagram\n",
      "H2(X, Z) → → \n",
      "↓ ↓ \n",
      "H2(X, OX )\n",
      "≃ Dolbeault\n",
      "↓ ↓ \n",
      "H2(X, C)\n",
      "de Rham ≃\n",
      "↓ ↓ \n",
      "H2\n",
      "dR(X, C) → → H0, 2\n",
      "¯∂ (X)\n",
      "4' metadata={'producer': 'dvips + GPL Ghostscript GIT PRERELEASE 9.22', 'creator': 'LaTeX with hyperref', 'creationdate': '2023-02-08T20:27:28-05:00', 'moddate': '2023-02-08T20:27:28-05:00', 'title': '', 'subject': '', 'author': '', 'keywords': '', 'source': 'https://arxiv.org/pdf/2302.03803', 'total_pages': 8, 'page': 3, 'page_label': '4'}\n",
      "page_content='The key points are the de Rham and Dolbeault’s isomorphisms for orbif olds. The rest\n",
      "of the proof follows as the (1, 1)-Lefschetz theorem in [6].\n",
      "Remark 3.5. For k = 1 and Pd\n",
      "Σ as the projective space, we recover the classical (1, 1)-\n",
      "Lefschetz theorem.\n",
      "△\n",
      "By the Hard Lefschetz Theorem for projective orbifolds (see [11] for details) we get an\n",
      "isomorphism of cohomologies :\n",
      "H●(X, Q) ≃H2 dim X−●(X, Q)\n",
      "given by the Lefschetz morphism and since it is a morphism of Hodge st ructures, we have:\n",
      "H1, 1(X, Q) ≃Hdim X−1, dim X−1(X, Q)\n",
      "For X as before:\n",
      "Corollary 3.6. If the dimension of X is 1, 2 or 3. The Hodge conjecture holds on X.\n",
      "Proof. If the dimCX = 1 the result is clear by the Hard Lefschetz theorem for projective\n",
      "orbifolds. The dimension 2 and 3 cases are covered by Theorem 3.5 an d the Hard Lefschetz.\n",
      "theorem.4 Cayley trick and Cayley proposition\n",
      "The Cayley trick is a way to associate to a quasi-smooth intersection subvariety a quasi-\n",
      "smooth hypersurface. Let L1, . . . , L s be line bundles on Pd\n",
      "Σ and let π ∶ P(E) → Pd\n",
      "Σ be the\n",
      "projective space bundle associated to the vector bundle E =L1 ⊕⋯⊕ Ls. It is known that\n",
      "P(E) is a (d +s −1)-dimensional simplicial toric variety whose fan depends on the degre es\n",
      "of the line bundles and the fan Σ. Furthermore, if the Cox ring, witho ut considering the\n",
      "grading, of Pd\n",
      "Σ is C[x1, . . . , x m] then the Cox ring of P(E) is\n",
      "C[x1, . . . , x m, y 1, . . . , y s]\n",
      "Moreover for X a quasi-smooth intersection subvariety cut oﬀ by f1, . . . , f s with deg(fi)=\n",
      "[Li] we relate the hypersurface Y cut oﬀ by F = y1f1 +⋅⋅⋅+ ysfs which turns out to be\n",
      "quasi-smooth. For more details see Section 2 in [7].\n",
      "5' metadata={'producer': 'dvips + GPL Ghostscript GIT PRERELEASE 9.22', 'creator': 'LaTeX with hyperref', 'creationdate': '2023-02-08T20:27:28-05:00', 'moddate': '2023-02-08T20:27:28-05:00', 'title': '', 'subject': '', 'author': '', 'keywords': '', 'source': 'https://arxiv.org/pdf/2302.03803', 'total_pages': 8, 'page': 4, 'page_label': '5'}\n",
      "page_content='We will denote P(E) as Pd+s−1\n",
      "Σ ,X to keep track of its relation with X and Pd\n",
      "Σ .\n",
      "The following is a key remark.\n",
      "Remark 4.1. There is a morphism ι∶X →Y ⊂Pd+s−1\n",
      "Σ ,X . Moreover every point z ∶=(x, y )∈Y\n",
      "with y ≠ 0 has a preimage. Hence for any subvariety W = V(IW ) ⊂ X ⊂ Pd\n",
      "Σ there exists\n",
      "W ′ ⊂Y ⊂Pd+s−1\n",
      "Σ ,X such that π(W ′)=W , i.e., W ′ ={z =(x, y ) /divides.alt0 x ∈W }.\n",
      "△\n",
      "For X ⊂ Pd\n",
      "Σ a quasi-smooth intersection variety the morphism in cohomology indu ced\n",
      "by the inclusion i∗ ∶Hd−s(Pd\n",
      "Σ , C)→Hd−s(X, C) is injective by Proposition 1.4 in [7].\n",
      "Deﬁnition 4.2. The primitive cohomology of Hd−s\n",
      "prim(X)is the quotient Hd−s(X, C)/slash.left i∗(Hd−s(Pd\n",
      "Σ , C))\n",
      "and Hd−s\n",
      "prim(X, Q) with rational coeﬃcients.\n",
      "Hd−s(Pd\n",
      "Σ , C) and Hd−s(X, C) have pure Hodge structures, and the morphism i∗ is com-\n",
      "patible with them, so that Hd−s\n",
      "prim(X) gets a pure Hodge structure.\n",
      "The next Proposition is the Cayley proposition.\n",
      "Proposition 4.3. [Proposition 2.3 in [3] ] Let X =X1 ∩⋅⋅⋅∩ Xs be a quasi-smooth intersec-\n",
      "tion subvariety in Pd\n",
      "Σ cut oﬀ by homogeneous polynomials f1 . . . f s. Then for p ≠ d+s−1\n",
      "2 , d+s−3\n",
      "2\n",
      "Hp−1,d +s−1−p\n",
      "prim (Y )≃Hp−s,d −p\n",
      "prim (X).\n",
      "Corollary 4.4. If d +s =2(k +1),\n",
      "Hk+1−s,k +1−s\n",
      "prim (X)≃Hk,k\n",
      "prim(Y )\n",
      "Remark 4.5. The above isomorphisms are also true with rational coeﬃcients since H●(X, C) =\n",
      "H●(X, Q)⊗Q C. See the beginning of Section 7.1 in [10] for more details.\n",
      "△\n",
      "5 Main result\n",
      "Theorem 5.1. Let Y ={F =y1f1 +⋯+ ykfk =0}⊂P2k+1\n",
      "Σ ,X be the quasi-smooth hypersurface\n",
      "associated to the quasi-smooth intersection surface X = Xf1 ∩⋅⋅⋅∩ Xfk ⊂ Pk+2\n",
      "Σ . Then on Y\n",
      "the Hodge conjecture holds.\n",
      "Proof. If Hk,k\n",
      "prim(X, Q) = 0 we are done. So let us assume Hk,k\n",
      "prim(X, Q) ≠ 0. By the Cayley\n",
      "proposition Hk,k\n",
      "prim(Y, Q) ≃ H1, 1\n",
      "prim(X, Q) and by the (1, 1)-Lefschetz theorem for projective\n",
      "6' metadata={'producer': 'dvips + GPL Ghostscript GIT PRERELEASE 9.22', 'creator': 'LaTeX with hyperref', 'creationdate': '2023-02-08T20:27:28-05:00', 'moddate': '2023-02-08T20:27:28-05:00', 'title': '', 'subject': '', 'author': '', 'keywords': '', 'source': 'https://arxiv.org/pdf/2302.03803', 'total_pages': 8, 'page': 5, 'page_label': '6'}\n",
      "page_content='toric orbifolds there is a non-zero algebraic basis λC1 , . . . , λ Cn with rational coeﬃcients of\n",
      "H1, 1\n",
      "prim(X, Q), that is, there are n ∶=h1, 1\n",
      "prim(X, Q) algebraic curves C1, . . . , C n in X such that\n",
      "under the Poincar´ e duality the class in homology [Ci] goes to λCi , [Ci] ↦ λCi . Recall\n",
      "that the Cox ring of Pk+2 is contained in the Cox ring of P2k+1\n",
      "Σ ,X without considering the\n",
      "grading. Considering the grading we have that if α ∈ Cl(Pk+2\n",
      "Σ ) then (α, 0) ∈ Cl(P2k+1\n",
      "Σ ,X ). So\n",
      "the polynomials deﬁning Ci ⊂ Pk+2\n",
      "Σ can be interpreted in P2k+1\n",
      "X, Σ but with diﬀerent degree.\n",
      "Moreover, by Remark 4.1 each Ci is contained in Y = {F = y1f1 + ⋯ + ykfk = 0} and\n",
      "furthermore it has codimension k.\n",
      "Claim: {λCi }n\n",
      "i=1 is a basis of Hk,k\n",
      "prim(Y, Q).\n",
      "It is enough to prove that λCi is diﬀerent from zero in Hk,k\n",
      "prim(Y, Q) or equivalently that the\n",
      "cohomology classes {λCi }n\n",
      "i=1 do not come from the ambient space. By contradiction, let us\n",
      "assume that there exists a j and C ⊂P2k+1\n",
      "Σ ,X such that λC ∈Hk,k (P2k+1\n",
      "Σ ,X , Q) with i∗(λC )=λCj\n",
      "or in terms of homology there exists a (k +2)-dimensional algebraic subvariety V ⊂ P2k+1\n",
      "Σ ,X\n",
      "such that V ∩Y = Cj so they are equal as a homology class of P2k+1\n",
      "Σ ,X ,i.e., [V ∩Y ] = [Cj] .\n",
      "It is easy to check that π(V )∩X =Cj as a subvariety of Pk+2\n",
      "Σ where π ∶ (x, y )↦x. Hence\n",
      "[π(V )∩X] = [Cj] which is equivalent to say that λCj comes from Pk+2\n",
      "Σ which contradicts\n",
      "the choice of [Cj].\n",
      "Remark 5.2. Into the proof of the previous theorem, the key fact was that on X the\n",
      "Hodge conjecture holds and we translate it to Y by contradiction. So, using an analogous\n",
      "argument we have:\n",
      "△\n",
      "Proposition 5.3. Let Y ={F =y1fs+⋯+ysfs =0}⊂P2k+1\n",
      "Σ ,X be the quasi-smooth hypersurface\n",
      "associated to a quasi-smooth intersection subvariety X = Xf1 ∩ ⋅⋅⋅ ∩ Xfs ⊂ Pd\n",
      "Σ such that\n",
      "d +s =2(k +1). If the Hodge conjecture holds on X then it holds as well on Y .\n",
      "Corollary 5.4. If the dimension of Y is 2s −1, 2s or 2s +1 then the Hodge conjecture\n",
      "holds on Y .\n",
      "Proof. By Proposition 5.3 and Corollary 3.6.\n",
      "7' metadata={'producer': 'dvips + GPL Ghostscript GIT PRERELEASE 9.22', 'creator': 'LaTeX with hyperref', 'creationdate': '2023-02-08T20:27:28-05:00', 'moddate': '2023-02-08T20:27:28-05:00', 'title': '', 'subject': '', 'author': '', 'keywords': '', 'source': 'https://arxiv.org/pdf/2302.03803', 'total_pages': 8, 'page': 6, 'page_label': '7'}\n",
      "page_content='References\n",
      "[1] Angella, D. Cohomologies of certain orbifolds. Journal of Geometry and Physics\n",
      "71 (2013), 117–126.\n",
      "[2] Batyrev, V. V., and Cox, D. A.On the Hodge structure of projective hypersur-\n",
      "faces in toric varieties. Duke Mathematical Journal 75, 2 (Aug 199 4).\n",
      "[3] Bruzzo, U., and Montoya, W. On the Hodge conjecture for quasi-smooth in-\n",
      "tersections in toric varieties. S˜ ao Paulo J. Math. Sci. Special Section: Geometry in\n",
      "Algebra and Algebra in Geometry (2021).\n",
      "[4] Caramello Jr, F. C.Introduction to orbifolds. arXiv:1909.08699v6 (2019).\n",
      "[5] Cox, D., Little, J., and Schenck, H.Toric varieties, vol. 124. American Math-\n",
      "ematical Soc., 2011.\n",
      "[6] Griffiths, P., and Harris, J. Principles of Algebraic Geometry. John Wiley &\n",
      "Sons, Ltd, 1978.\n",
      "[7] Mavlyutov, A. R. Cohomology of complete intersections in toric varieties. Pub-\n",
      "lished in Paciﬁc J. of Math. 191 No. 1 (1999), 133–144.\n",
      "[8] Satake, I. On a Generalization of the Notion of Manifold. Proceedings of the\n",
      "National Academy of Sciences of the United States of America 42, 6 (1956), 359–363.\n",
      "[9] Steenbrink, J. H. M.Intersection form for quasi-homogeneous singularities. Com-\n",
      "positio Mathematica 34 , 2 (1977), 211–223.\n",
      "[10] Voisin, C. Hodge Theory and Complex Algebraic Geometry I, vol. 1 of Cambridge\n",
      "Studies in Advanced Mathematics . Cambridge University Press, 2002.\n",
      "[11] W ang, Z. Z., and Zaffran, D.A remark on the Hard Lefschetz theorem for K¨ ahler\n",
      "orbifolds. Proceedings of the American Mathematical Society 137 , 08 (Aug 2009).\n",
      "8' metadata={'producer': 'dvips + GPL Ghostscript GIT PRERELEASE 9.22', 'creator': 'LaTeX with hyperref', 'creationdate': '2023-02-08T20:27:28-05:00', 'moddate': '2023-02-08T20:27:28-05:00', 'title': '', 'subject': '', 'author': '', 'keywords': '', 'source': 'https://arxiv.org/pdf/2302.03803', 'total_pages': 8, 'page': 7, 'page_label': '8'}\n"
     ]
    }
   ],
   "execution_count": 15
  },
  {
   "metadata": {},
   "cell_type": "markdown",
   "source": "# 3、加载CSV文档",
   "id": "7145a658a82b3a56"
  },
  {
   "metadata": {
    "ExecuteTime": {
     "end_time": "2025-09-09T13:00:18.830376Z",
     "start_time": "2025-09-09T13:00:18.826385Z"
    }
   },
   "cell_type": "code",
   "source": [
    "from langchain_community.document_loaders import CSVLoader\n",
    "\n",
    "csv_loader = CSVLoader(\n",
    "    file_path=\"./asset/load/03-load.csv\"\n",
    ")\n",
    "\n",
    "docs = csv_loader.load()\n",
    "\n",
    "print(len(docs))\n",
    "\n",
    "\n",
    "print(docs)\n",
    "\n",
    "for doc in docs:\n",
    "    print(doc)"
   ],
   "id": "f7f8c3a82be82838",
   "outputs": [
    {
     "name": "stdout",
     "output_type": "stream",
     "text": [
      "4\n",
      "[Document(metadata={'source': './asset/load/03-load.csv', 'row': 0}, page_content='id: 1\\ntitle: Introduction to Python\\ncontent: Python is a popular programming language.\\nauthor: John Doe'), Document(metadata={'source': './asset/load/03-load.csv', 'row': 1}, page_content='id: 2\\ntitle: Data Science Basics\\ncontent: Data science involves statistics and machine learning.\\nauthor: Jane Smith'), Document(metadata={'source': './asset/load/03-load.csv', 'row': 2}, page_content='id: 3\\ntitle: Web Development\\ncontent: HTML, CSS and JavaScript are core web technologies.\\nauthor: Mike Johnson'), Document(metadata={'source': './asset/load/03-load.csv', 'row': 3}, page_content='id: 4\\ntitle: Artificial Intelligence\\ncontent: AI is transforming many industries.\\nauthor: Sarah Williams')]\n",
      "page_content='id: 1\n",
      "title: Introduction to Python\n",
      "content: Python is a popular programming language.\n",
      "author: John Doe' metadata={'source': './asset/load/03-load.csv', 'row': 0}\n",
      "page_content='id: 2\n",
      "title: Data Science Basics\n",
      "content: Data science involves statistics and machine learning.\n",
      "author: Jane Smith' metadata={'source': './asset/load/03-load.csv', 'row': 1}\n",
      "page_content='id: 3\n",
      "title: Web Development\n",
      "content: HTML, CSS and JavaScript are core web technologies.\n",
      "author: Mike Johnson' metadata={'source': './asset/load/03-load.csv', 'row': 2}\n",
      "page_content='id: 4\n",
      "title: Artificial Intelligence\n",
      "content: AI is transforming many industries.\n",
      "author: Sarah Williams' metadata={'source': './asset/load/03-load.csv', 'row': 3}\n"
     ]
    }
   ],
   "execution_count": 17
  },
  {
   "metadata": {
    "ExecuteTime": {
     "end_time": "2025-09-09T13:02:23.072875Z",
     "start_time": "2025-09-09T13:02:23.057857Z"
    }
   },
   "cell_type": "code",
   "source": [
    "from langchain_community.document_loaders import CSVLoader\n",
    "\n",
    "csv_loader = CSVLoader(\n",
    "    file_path=\"./asset/load/03-load.csv\",\n",
    "    source_column=\"author\"\n",
    ")\n",
    "\n",
    "docs = csv_loader.load()\n",
    "\n",
    "for doc in docs:\n",
    "    print(doc)"
   ],
   "id": "f926af31f20190eb",
   "outputs": [
    {
     "name": "stdout",
     "output_type": "stream",
     "text": [
      "page_content='id: 1\n",
      "title: Introduction to Python\n",
      "content: Python is a popular programming language.\n",
      "author: John Doe' metadata={'source': 'John Doe', 'row': 0}\n",
      "page_content='id: 2\n",
      "title: Data Science Basics\n",
      "content: Data science involves statistics and machine learning.\n",
      "author: Jane Smith' metadata={'source': 'Jane Smith', 'row': 1}\n",
      "page_content='id: 3\n",
      "title: Web Development\n",
      "content: HTML, CSS and JavaScript are core web technologies.\n",
      "author: Mike Johnson' metadata={'source': 'Mike Johnson', 'row': 2}\n",
      "page_content='id: 4\n",
      "title: Artificial Intelligence\n",
      "content: AI is transforming many industries.\n",
      "author: Sarah Williams' metadata={'source': 'Sarah Williams', 'row': 3}\n"
     ]
    }
   ],
   "execution_count": 18
  },
  {
   "metadata": {},
   "cell_type": "markdown",
   "source": [
    "# 4、加载JSON文档\n",
    "\n",
    "举例1：加载json文件中的所有的数据"
   ],
   "id": "d2fe1184c4138610"
  },
  {
   "metadata": {
    "ExecuteTime": {
     "end_time": "2025-09-09T13:58:47.221088Z",
     "start_time": "2025-09-09T13:58:47.215083Z"
    }
   },
   "cell_type": "code",
   "source": [
    "from langchain_community.document_loaders import JSONLoader\n",
    "\n",
    "json_loader = JSONLoader(\n",
    "    file_path=\"./asset/load/04-load.json\",\n",
    "    jq_schema=\".\", #表示加载所有的字段\n",
    "    text_content=False, #将加载的json对象转换为json字符串\n",
    ")\n",
    "\n",
    "docs = json_loader.load()\n",
    "\n",
    "print(docs)"
   ],
   "id": "5a6fc4c1348b6703",
   "outputs": [
    {
     "name": "stdout",
     "output_type": "stream",
     "text": [
      "[Document(metadata={'source': 'D:\\\\code\\\\workspace_pycharm_llm\\\\LangChain-tutorial\\\\chapter07-RAG\\\\asset\\\\load\\\\04-load.json', 'seq_num': 1}, page_content='{\"messages\": [{\"sender\": \"Alice\", \"content\": \"Hello, how are you today?\", \"timestamp\": \"2023-05-15T10:00:00\"}, {\"sender\": \"Bob\", \"content\": \"I\\'m doing well, thanks for asking!\", \"timestamp\": \"2023-05-15T10:02:00\"}, {\"sender\": \"Alice\", \"content\": \"Would you like to meet for lunch?\", \"timestamp\": \"2023-05-15T10:05:00\"}, {\"sender\": \"Bob\", \"content\": \"Sure, that sounds great!\", \"timestamp\": \"2023-05-15T10:07:00\"}], \"conversation_id\": \"conv_12345\", \"participants\": [\"Alice\", \"Bob\"]}')]\n"
     ]
    }
   ],
   "execution_count": 32
  },
  {
   "metadata": {},
   "cell_type": "markdown",
   "source": "举例2：加载json文件中messages[]中的所有的content字段",
   "id": "ef4e888bb0121686"
  },
  {
   "metadata": {
    "ExecuteTime": {
     "end_time": "2025-09-09T14:01:23.310463Z",
     "start_time": "2025-09-09T14:01:23.303463Z"
    }
   },
   "cell_type": "code",
   "source": [
    "from langchain_community.document_loaders import JSONLoader\n",
    "\n",
    "json_loader = JSONLoader(\n",
    "    file_path=\"./asset/load/04-load.json\",\n",
    "    jq_schema=\".messages[].content\", #加载messages[]的所有的content字段\n",
    "    #text_content=False, #将加载的json对象转换为json字符串\n",
    ")\n",
    "\n",
    "docs = json_loader.load()\n",
    "\n",
    "for doc in docs:\n",
    "    print(doc.page_content)"
   ],
   "id": "c23ba34a1bbee26f",
   "outputs": [
    {
     "name": "stdout",
     "output_type": "stream",
     "text": [
      "Hello, how are you today?\n",
      "I'm doing well, thanks for asking!\n",
      "Would you like to meet for lunch?\n",
      "Sure, that sounds great!\n"
     ]
    }
   ],
   "execution_count": 35
  },
  {
   "metadata": {},
   "cell_type": "markdown",
   "source": "举例3：提取04-response.json文件中嵌套在 data.items[].content 的文本",
   "id": "a3b0a299c3e51648"
  },
  {
   "metadata": {
    "ExecuteTime": {
     "end_time": "2025-09-09T14:05:18.633595Z",
     "start_time": "2025-09-09T14:05:18.620592Z"
    }
   },
   "cell_type": "code",
   "source": [
    "from langchain_community.document_loaders import JSONLoader\n",
    "\n",
    "# 方式1：\n",
    "# json_loader = JSONLoader(\n",
    "#     file_path=\"./asset/load/04-response.json\",\n",
    "#     jq_schema=\".data.items[].content\", #data.items[].content\n",
    "# )\n",
    "\n",
    "# 方式2：\n",
    "json_loader = JSONLoader(\n",
    "    file_path=\"./asset/load/04-response.json\",\n",
    "    jq_schema=\".data.items[]\", #data.items[].content\n",
    "    content_key=\".content\",\n",
    "    is_content_key_jq_parsable=True, #用jq解析content_key\n",
    ")\n",
    "\n",
    "docs = json_loader.load()\n",
    "\n",
    "for doc in docs:\n",
    "    print(doc.page_content)"
   ],
   "id": "cc616ed14ac69cc8",
   "outputs": [
    {
     "name": "stdout",
     "output_type": "stream",
     "text": [
      "This article explains how to parse API responses...\n",
      "Learn to handle nested structures with...\n",
      "Best practices for preserving metadata...\n"
     ]
    }
   ],
   "execution_count": 38
  },
  {
   "metadata": {},
   "cell_type": "markdown",
   "source": [
    "举例4：提取04-response.json文件中嵌套在 data.items[] 里的 title、content 和 其文本\n",
    "\n"
   ],
   "id": "bf20cc143cffd096"
  },
  {
   "metadata": {
    "ExecuteTime": {
     "end_time": "2025-09-09T14:07:10.304248Z",
     "start_time": "2025-09-09T14:07:10.284196Z"
    }
   },
   "cell_type": "code",
   "source": [
    "# 1.导入相关依赖\n",
    "from langchain_community.document_loaders import JSONLoader\n",
    "from pprint import pprint\n",
    "\n",
    "# 2.定义json文件的路径\n",
    "file_path = 'asset/load/04-response.json'\n",
    "\n",
    "# 3.定义JSONLoader对象\n",
    "# 提取嵌套在 data.items[].content 的文本，并保留其他字段作为元数据\n",
    "# loader = JSONLoader(\n",
    "#     file_path=file_path,\n",
    "#     # jq_schema=\".data.items[] | {id, author, text: (.title + '\\n' + .content)}\",\n",
    "#     jq_schema='''.data.items[] | {\n",
    "#     id,\n",
    "#     author,\n",
    "#     created_at,\n",
    "#     title, # 保留title字段\n",
    "#     text: (.title + \"\\n\" + .content)\n",
    "#     }''',\n",
    "#     content_key=\".text\",  # 再从条目中提取 content 字段\n",
    "#     is_content_key_jq_parsable=True  # 用jq解析content_key\n",
    "# )\n",
    "loader = JSONLoader(\n",
    "    file_path=file_path,\n",
    "    # jq_schema=\".data.items[] | {id, author, text: (.title + '\\n' + .content)}\",\n",
    "    jq_schema=\".data.items[]\",\n",
    "    content_key='.title + \"\\\\n\\\\n\" + .content',\n",
    "    is_content_key_jq_parsable=True  # 用jq解析content_key\n",
    ")\n",
    "\n",
    "# loader = JSONLoader(\n",
    "#     file_path=file_path,\n",
    "#     # jq_schema=\".data.items[] | {id, author, text: (.title + '\\n' + .content)}\",\n",
    "#     jq_schema='''\n",
    "#         .data.items[] | {\n",
    "#             metadata: {\n",
    "#                 id,\n",
    "#                 author,\n",
    "#                 created_at\n",
    "#             },\n",
    "#             content: (.title + \"\\n\\n\" + .content)\n",
    "#         }\n",
    "#     ''',  # 构建新结构\n",
    "#      content_key='.title + \"\\\\n\\\\n\" + .content',\n",
    "#     is_content_key_jq_parsable=True  # 用jq解析content_key\n",
    "# )\n",
    "\n",
    "# 4.加载\n",
    "data = loader.load()\n",
    "\n",
    "for doc in data:\n",
    "    print(doc.page_content)"
   ],
   "id": "a614b8d90e2a3e41",
   "outputs": [
    {
     "name": "stdout",
     "output_type": "stream",
     "text": [
      "Understanding JSONLoader\n",
      "\n",
      "This article explains how to parse API responses...\n",
      "Advanced jq Schema Patterns\n",
      "\n",
      "Learn to handle nested structures with...\n",
      "LangChain Metadata Handling\n",
      "\n",
      "Best practices for preserving metadata...\n"
     ]
    }
   ],
   "execution_count": 40
  },
  {
   "metadata": {},
   "cell_type": "markdown",
   "source": "# 5、加载HTML文档",
   "id": "eb7a372db980974d"
  },
  {
   "metadata": {
    "ExecuteTime": {
     "end_time": "2025-09-09T14:42:51.152594Z",
     "start_time": "2025-09-09T14:42:51.077591Z"
    }
   },
   "cell_type": "code",
   "source": [
    "# 1.导入相关的依赖\n",
    "from langchain.document_loaders import UnstructuredHTMLLoader\n",
    "\n",
    "# 2.定义UnstructuredHTMLLoader对象\n",
    "# strategy:\n",
    "#   \"fast\" 解析加载html文件速度是比较快（但可能丢失部分结构或元数据）\n",
    "#   \"hi_res\": (高分辨率解析) 解析精准（速度慢一些）\n",
    "#   \"ocr_only\"  强制使用ocr提取文本，仅仅适用于图像（对HTML无效）\n",
    "\n",
    "# mode ：one of `{'paged', 'elements', 'single'}\n",
    "#    \"elements\"  按语义元素（标题、段落、列表、表格等）拆分成多个独立的小文档\n",
    "\n",
    "html_loader = UnstructuredHTMLLoader(\n",
    "    file_path=\"asset/load/05-load.html\",\n",
    "    mode=\"elements\",\n",
    "    strategy=\"fast\"\n",
    ")\n",
    "\n",
    "# 3.加载\n",
    "docs = html_loader.load()\n",
    "\n",
    "print(len(docs))  # 16\n",
    "\n",
    "# 4.打印\n",
    "for doc in docs:\n",
    "    print(doc)\n"
   ],
   "id": "390d91b8b4322f1d",
   "outputs": [
    {
     "name": "stdout",
     "output_type": "stream",
     "text": [
      "16\n",
      "page_content='首发于自然语言处理算法与实践' metadata={'source': 'asset/load/05-load.html', 'last_modified': '2025-07-17T15:38:36', 'languages': ['zho'], 'file_directory': 'asset/load', 'filename': '05-load.html', 'filetype': 'text/html', 'category': 'UncategorizedText', 'element_id': 'b082a3e1f4714ffa5f25741f39d82c17'}\n",
      "page_content='RAG:将检索与生成方式相结合来做生成任务' metadata={'source': 'asset/load/05-load.html', 'category_depth': 0, 'last_modified': '2025-07-17T15:38:36', 'languages': ['kor'], 'file_directory': 'asset/load', 'filename': '05-load.html', 'filetype': 'text/html', 'category': 'Title', 'element_id': '46103fd31eae47ed36481d13185af8a9'}\n",
      "page_content='烛之文' metadata={'source': 'asset/load/05-load.html', 'last_modified': '2025-07-17T15:38:36', 'languages': ['kor'], 'file_directory': 'asset/load', 'filename': '05-load.html', 'filetype': 'text/html', 'parent_id': '46103fd31eae47ed36481d13185af8a9', 'category': 'UncategorizedText', 'element_id': 'e02798c2e2bb964165a9e9356b82a3f6'}\n",
      "page_content='1、前言' metadata={'source': 'asset/load/05-load.html', 'category_depth': 1, 'last_modified': '2025-07-17T15:38:36', 'languages': ['zho'], 'file_directory': 'asset/load', 'filename': '05-load.html', 'filetype': 'text/html', 'parent_id': '46103fd31eae47ed36481d13185af8a9', 'category': 'Title', 'element_id': '683a24e897e3a9b862ead6c7979a58dc'}\n",
      "page_content='在上一篇<kNN-NER：利用knn近邻算法来做命名实体识别>提及到文中提出kNN-NER框架是一种检索式增强的方法（retrieval augmented methods），就去查看有关retrieval augmented的paper，了解其核心思想，觉得检索式增强的方法很适合许多业务场景使用，因其以一种简捷的方式将外部知识融于模型中去。今天就分享一篇来自Facebook AI Research的paper<Retrieval-Augmented Generation for Knowledge-Intensive NLP Tasks>，论文提出一种检索式增强生成方法，应用于知识密集型的NLP任务（如问答生成），该篇论文被2020年NeurIPS 会议接收。' metadata={'source': 'asset/load/05-load.html', 'last_modified': '2025-07-17T15:38:36', 'languages': ['nor'], 'file_directory': 'asset/load', 'filename': '05-load.html', 'filetype': 'text/html', 'parent_id': '683a24e897e3a9b862ead6c7979a58dc', 'category': 'NarrativeText', 'element_id': 'd345b4a58c84984eb1acf1105fd9f214'}\n",
      "page_content='文中说到，以BERT之类的大规模预训练模型将很多事实知识信息存入模型中，可以看着是pre-trained parametric类型，尽管以fine-tuned方式在下游任务取得显著的成效，但这类方法仍存在无法精准地获取和操作知识的缺陷。而在上述提及的问题上，传统知识检索的方法能很好的应对，这类方法可以看着是non-parametric memory类型。于是，论文提出检索式增强生成方法（retrieval-augmented generation，RAG），主要思想就是将pre-trained parametric与non-parametric memory结合起来做语言生成任务，将两类模型集成起来提高任务处理效果。' metadata={'source': 'asset/load/05-load.html', 'last_modified': '2025-07-17T15:38:36', 'languages': ['nor'], 'file_directory': 'asset/load', 'filename': '05-load.html', 'filetype': 'text/html', 'parent_id': '683a24e897e3a9b862ead6c7979a58dc', 'category': 'UncategorizedText', 'element_id': '2fe8d146b5803ec72e5173bf15599710'}\n",
      "page_content='2、RAG方法' metadata={'source': 'asset/load/05-load.html', 'category_depth': 1, 'last_modified': '2025-07-17T15:38:36', 'languages': ['zho'], 'file_directory': 'asset/load', 'filename': '05-load.html', 'filetype': 'text/html', 'parent_id': '46103fd31eae47ed36481d13185af8a9', 'category': 'Title', 'element_id': '22ca96c9bf71395b8fbbf0928bd7f292'}\n",
      "page_content='上图为论文提出RAG模型的整体示意图。主要包括两大模块：一个检索器（Retriever， p_\\\\eta(z|x) ） + 一个生成器（Generator， p_\\\\theta(y_i|x,z,y_{1:i-1}) ）。前者包括query encoder和document index，分别负责query的编码和文档的索引；后者是一个seq2seq的生成模型。在检索中，使用的是最大内积搜索的方法（MIPS）来检索top-K相关文档。' metadata={'source': 'asset/load/05-load.html', 'last_modified': '2025-07-17T15:38:36', 'languages': ['cat', 'nor'], 'file_directory': 'asset/load', 'filename': '05-load.html', 'filetype': 'text/html', 'parent_id': '22ca96c9bf71395b8fbbf0928bd7f292', 'category': 'NarrativeText', 'element_id': '6bbc63aaa7b3afb8d2685e9b3de78a4c'}\n",
      "page_content='3、实验' metadata={'source': 'asset/load/05-load.html', 'category_depth': 1, 'last_modified': '2025-07-17T15:38:36', 'languages': ['zho'], 'file_directory': 'asset/load', 'filename': '05-load.html', 'filetype': 'text/html', 'parent_id': '46103fd31eae47ed36481d13185af8a9', 'category': 'Title', 'element_id': '4df308cd6991fb9e3f0592371bae26be'}\n",
      "page_content='论文在四类Knowledge-Intensive 任务上进行实验，具体包括开放问答（Open-domain Question Answering ）、摘要式问答（Abstractive Question Answering） 、开放问题生成（Jeopardy Question Generation）、事实判断（Fact Verification ），并使用维基百科（包含2100万个文档）作为检索库。' metadata={'source': 'asset/load/05-load.html', 'last_modified': '2025-07-17T15:38:36', 'languages': ['eng'], 'file_directory': 'asset/load', 'filename': '05-load.html', 'filetype': 'text/html', 'parent_id': '4df308cd6991fb9e3f0592371bae26be', 'category': 'UncategorizedText', 'element_id': 'ed6e043c7fd99ec0824b91725c66e0ba'}\n",
      "page_content='4、结语' metadata={'source': 'asset/load/05-load.html', 'category_depth': 1, 'last_modified': '2025-07-17T15:38:36', 'languages': ['zho'], 'file_directory': 'asset/load', 'filename': '05-load.html', 'filetype': 'text/html', 'parent_id': '46103fd31eae47ed36481d13185af8a9', 'category': 'Title', 'element_id': '95bc5bffaa5cfd41f5242f9f8b330761'}\n",
      "page_content='本次分享基于检索增强方式将外部知识融于生成任务中一个新的框架――RAG。对比T5 和 BART这类擅长处理生成任务的模型来说，RAG更新外部知识是不需要重新预训练，成本低；而对比pipeline方法，RAG利用外部知识并不需要构造负责的特征工程。总的来说，RAG方法可作为外部知识融合框架的一种有效实例。' metadata={'source': 'asset/load/05-load.html', 'last_modified': '2025-07-17T15:38:36', 'languages': ['zho', 'kor'], 'file_directory': 'asset/load', 'filename': '05-load.html', 'filetype': 'text/html', 'parent_id': '95bc5bffaa5cfd41f5242f9f8b330761', 'category': 'UncategorizedText', 'element_id': '232dc4ae399e0a8847bfcdeb2e64e215'}\n",
      "page_content='有兴趣可关注笔者公众号：自然语言处理算法与实践' metadata={'source': 'asset/load/05-load.html', 'last_modified': '2025-07-17T15:38:36', 'languages': ['zho', 'kor'], 'file_directory': 'asset/load', 'filename': '05-load.html', 'filetype': 'text/html', 'parent_id': '95bc5bffaa5cfd41f5242f9f8b330761', 'category': 'UncategorizedText', 'element_id': '41f28a1034fdc4291daf652054c20bd2'}\n",
      "page_content='编辑于 2022-04-06 10:47' metadata={'source': 'asset/load/05-load.html', 'last_modified': '2025-07-17T15:38:36', 'languages': ['zho'], 'file_directory': 'asset/load', 'filename': '05-load.html', 'filetype': 'text/html', 'parent_id': '95bc5bffaa5cfd41f5242f9f8b330761', 'category': 'UncategorizedText', 'element_id': 'f70255f8bf13d39885508fd845c22382'}\n",
      "page_content='深度学习（Deep Learning）' metadata={'source': 'asset/load/05-load.html', 'last_modified': '2025-07-17T15:38:36', 'languages': ['nld', 'eng'], 'file_directory': 'asset/load', 'filename': '05-load.html', 'filetype': 'text/html', 'parent_id': '95bc5bffaa5cfd41f5242f9f8b330761', 'category': 'UncategorizedText', 'element_id': '1818d3e8e3a4ce395732bba3428a111d'}\n",
      "page_content='自然语言处理算法与实践' metadata={'source': 'asset/load/05-load.html', 'category_depth': 2, 'last_modified': '2025-07-17T15:38:36', 'languages': ['kor', 'zho'], 'file_directory': 'asset/load', 'filename': '05-load.html', 'filetype': 'text/html', 'parent_id': '95bc5bffaa5cfd41f5242f9f8b330761', 'category': 'Title', 'element_id': '95058f2148219d97462c5c4bfe175502'}\n"
     ]
    }
   ],
   "execution_count": 48
  },
  {
   "metadata": {},
   "cell_type": "markdown",
   "source": "# 6、加载markdown文档",
   "id": "578239b55ae805e9"
  },
  {
   "metadata": {
    "ExecuteTime": {
     "end_time": "2025-09-09T14:37:17.607825Z",
     "start_time": "2025-09-09T14:37:17.499394Z"
    }
   },
   "cell_type": "code",
   "source": [
    "# 1.导入相关的依赖\n",
    "from langchain.document_loaders import UnstructuredMarkdownLoader\n",
    "from pprint import pprint\n",
    "\n",
    "# 2.定义UnstructuredMarkdownLoader对象\n",
    "md_loader = UnstructuredMarkdownLoader(\n",
    "    file_path=\"asset/load/06-load.md\",\n",
    "    strategy=\"fast\"\n",
    ")\n",
    "\n",
    "# 3.加载\n",
    "docs = md_loader.load()\n",
    "\n",
    "print(len(docs))\n",
    "# 4.打印\n",
    "for doc in docs:\n",
    "    pprint(doc)"
   ],
   "id": "e7d6deb16152f13b",
   "outputs": [
    {
     "name": "stdout",
     "output_type": "stream",
     "text": [
      "1\n",
      "Document(metadata={'source': 'asset/load/06-load.md'}, page_content='自然语言处理技术文档\\n\\n本文档用于测试UnstructuredMarkdownLoader的中文处理能力。\\n\\n第一章：简介\\n\\n自然语言处理(NLP)是人工智能的重要分支，主要技术包括：\\n\\n文本分类\\n\\n命名实体识别\\n\\n机器翻译\\n\\n情感分析\\n\\n问答系统\\n\\n第二章：关键技术\\n\\n2.1 预训练模型\\n\\nBERT：双向Transformer编码器\\n\\nGPT：自回归语言模型\\n\\nT5：文本到文本转换框架\\n\\n2.2 代码示例\\n\\n```python from transformers import pipeline\\n\\n创建文本分类管道\\n\\nclassifier = pipeline(\"text-classification\", model=\"bert-base-chinese\")\\n\\nresult = classifier(\"这家餐厅的服务很棒！\") print(result)')\n"
     ]
    }
   ],
   "execution_count": 42
  },
  {
   "metadata": {
    "ExecuteTime": {
     "end_time": "2025-09-09T14:37:42.919595Z",
     "start_time": "2025-09-09T14:37:42.883879Z"
    }
   },
   "cell_type": "code",
   "source": [
    "# 1.导入相关的依赖\n",
    "from langchain.document_loaders import UnstructuredMarkdownLoader\n",
    "from pprint import pprint\n",
    "\n",
    "# 2.定义UnstructuredMarkdownLoader对象\n",
    "md_loader = UnstructuredMarkdownLoader(\n",
    "    file_path=\"asset/load/06-load.md\",\n",
    "    strategy=\"fast\",\n",
    "    mode=\"elements\"\n",
    ")\n",
    "\n",
    "# 3.加载\n",
    "docs = md_loader.load()\n",
    "\n",
    "print(len(docs))\n",
    "# 4.打印\n",
    "for doc in docs:\n",
    "    pprint(doc)"
   ],
   "id": "37c4bac9ed8d3c42",
   "outputs": [
    {
     "name": "stdout",
     "output_type": "stream",
     "text": [
      "19\n",
      "Document(metadata={'source': 'asset/load/06-load.md', 'category_depth': 0, 'languages': ['eng'], 'file_directory': 'asset/load', 'filename': '06-load.md', 'filetype': 'text/markdown', 'last_modified': '2025-07-06T17:06:09', 'category': 'Title', 'element_id': '184afae73069130590c7608c471f63f4'}, page_content='自然语言处理技术文档')\n",
      "Document(metadata={'source': 'asset/load/06-load.md', 'languages': ['eng'], 'file_directory': 'asset/load', 'filename': '06-load.md', 'filetype': 'text/markdown', 'last_modified': '2025-07-06T17:06:09', 'parent_id': '184afae73069130590c7608c471f63f4', 'category': 'UncategorizedText', 'element_id': '18f55c7a014f88171f86dc848b58a83b'}, page_content='本文档用于测试UnstructuredMarkdownLoader的中文处理能力。')\n",
      "Document(metadata={'source': 'asset/load/06-load.md', 'category_depth': 1, 'languages': ['eng'], 'file_directory': 'asset/load', 'filename': '06-load.md', 'filetype': 'text/markdown', 'last_modified': '2025-07-06T17:06:09', 'parent_id': '184afae73069130590c7608c471f63f4', 'category': 'Title', 'element_id': '6a6844d806798af924a74eecc9bf3c1f'}, page_content='第一章：简介')\n",
      "Document(metadata={'source': 'asset/load/06-load.md', 'languages': ['eng'], 'file_directory': 'asset/load', 'filename': '06-load.md', 'filetype': 'text/markdown', 'last_modified': '2025-07-06T17:06:09', 'parent_id': '6a6844d806798af924a74eecc9bf3c1f', 'category': 'UncategorizedText', 'element_id': 'e7b3e94da2b42ec341e42747172c2fb1'}, page_content='自然语言处理(NLP)是人工智能的重要分支，主要技术包括：')\n",
      "Document(metadata={'source': 'asset/load/06-load.md', 'category_depth': 1, 'languages': ['eng'], 'file_directory': 'asset/load', 'filename': '06-load.md', 'filetype': 'text/markdown', 'last_modified': '2025-07-06T17:06:09', 'parent_id': '6a6844d806798af924a74eecc9bf3c1f', 'category': 'ListItem', 'element_id': 'eb53d308db7e96fa7bf107143411c209'}, page_content='文本分类')\n",
      "Document(metadata={'source': 'asset/load/06-load.md', 'category_depth': 1, 'languages': ['eng'], 'file_directory': 'asset/load', 'filename': '06-load.md', 'filetype': 'text/markdown', 'last_modified': '2025-07-06T17:06:09', 'parent_id': '6a6844d806798af924a74eecc9bf3c1f', 'category': 'ListItem', 'element_id': 'd3cd19f3de6c7be342b6d45249ed5936'}, page_content='命名实体识别')\n",
      "Document(metadata={'source': 'asset/load/06-load.md', 'category_depth': 1, 'languages': ['eng'], 'file_directory': 'asset/load', 'filename': '06-load.md', 'filetype': 'text/markdown', 'last_modified': '2025-07-06T17:06:09', 'parent_id': '6a6844d806798af924a74eecc9bf3c1f', 'category': 'ListItem', 'element_id': '4af0dd9da13771840a9696cdcbb502e1'}, page_content='机器翻译')\n",
      "Document(metadata={'source': 'asset/load/06-load.md', 'category_depth': 1, 'languages': ['eng'], 'file_directory': 'asset/load', 'filename': '06-load.md', 'filetype': 'text/markdown', 'last_modified': '2025-07-06T17:06:09', 'parent_id': '6a6844d806798af924a74eecc9bf3c1f', 'category': 'ListItem', 'element_id': '862050b1daeb945947f4c00587f16954'}, page_content='情感分析')\n",
      "Document(metadata={'source': 'asset/load/06-load.md', 'category_depth': 1, 'languages': ['eng'], 'file_directory': 'asset/load', 'filename': '06-load.md', 'filetype': 'text/markdown', 'last_modified': '2025-07-06T17:06:09', 'parent_id': '6a6844d806798af924a74eecc9bf3c1f', 'category': 'ListItem', 'element_id': '7f221beeb60cc8089f9878c70230b9a5'}, page_content='问答系统')\n",
      "Document(metadata={'source': 'asset/load/06-load.md', 'category_depth': 1, 'languages': ['eng'], 'file_directory': 'asset/load', 'filename': '06-load.md', 'filetype': 'text/markdown', 'last_modified': '2025-07-06T17:06:09', 'parent_id': '184afae73069130590c7608c471f63f4', 'category': 'Title', 'element_id': 'c2bf8c7c4e88556b7afb7b5407d4fbf2'}, page_content='第二章：关键技术')\n",
      "Document(metadata={'source': 'asset/load/06-load.md', 'category_depth': 2, 'languages': ['eng'], 'file_directory': 'asset/load', 'filename': '06-load.md', 'filetype': 'text/markdown', 'last_modified': '2025-07-06T17:06:09', 'parent_id': 'c2bf8c7c4e88556b7afb7b5407d4fbf2', 'category': 'Title', 'element_id': 'd32a685b6777cb3277c7732ca2603203'}, page_content='2.1 预训练模型')\n",
      "Document(metadata={'source': 'asset/load/06-load.md', 'category_depth': 1, 'emphasized_text_contents': ['BERT'], 'emphasized_text_tags': ['b'], 'languages': ['eng'], 'file_directory': 'asset/load', 'filename': '06-load.md', 'filetype': 'text/markdown', 'last_modified': '2025-07-06T17:06:09', 'parent_id': 'd32a685b6777cb3277c7732ca2603203', 'category': 'ListItem', 'element_id': '3efd83a33d46349a06c9489309f23af0'}, page_content='BERT：双向Transformer编码器')\n",
      "Document(metadata={'source': 'asset/load/06-load.md', 'category_depth': 1, 'emphasized_text_contents': ['GPT'], 'emphasized_text_tags': ['b'], 'languages': ['eng'], 'file_directory': 'asset/load', 'filename': '06-load.md', 'filetype': 'text/markdown', 'last_modified': '2025-07-06T17:06:09', 'parent_id': 'd32a685b6777cb3277c7732ca2603203', 'category': 'ListItem', 'element_id': '042b24863d1db56d10e6222413089a30'}, page_content='GPT：自回归语言模型')\n",
      "Document(metadata={'source': 'asset/load/06-load.md', 'category_depth': 1, 'emphasized_text_contents': ['T5'], 'emphasized_text_tags': ['b'], 'languages': ['eng'], 'file_directory': 'asset/load', 'filename': '06-load.md', 'filetype': 'text/markdown', 'last_modified': '2025-07-06T17:06:09', 'parent_id': 'd32a685b6777cb3277c7732ca2603203', 'category': 'ListItem', 'element_id': '7da9d82f5274c3edb7ae917995c08db2'}, page_content='T5：文本到文本转换框架')\n",
      "Document(metadata={'source': 'asset/load/06-load.md', 'category_depth': 2, 'languages': ['eng'], 'file_directory': 'asset/load', 'filename': '06-load.md', 'filetype': 'text/markdown', 'last_modified': '2025-07-06T17:06:09', 'parent_id': 'c2bf8c7c4e88556b7afb7b5407d4fbf2', 'category': 'Title', 'element_id': '58fa664fefbefa6e86ee4fc8dd128878'}, page_content='2.2 代码示例')\n",
      "Document(metadata={'source': 'asset/load/06-load.md', 'languages': ['eng'], 'file_directory': 'asset/load', 'filename': '06-load.md', 'filetype': 'text/markdown', 'last_modified': '2025-07-06T17:06:09', 'parent_id': '58fa664fefbefa6e86ee4fc8dd128878', 'category': 'NarrativeText', 'element_id': '2d72807f991457ffe38dad8b46480b0b'}, page_content='```python from transformers import pipeline')\n",
      "Document(metadata={'source': 'asset/load/06-load.md', 'category_depth': 0, 'languages': ['eng'], 'file_directory': 'asset/load', 'filename': '06-load.md', 'filetype': 'text/markdown', 'last_modified': '2025-07-06T17:06:09', 'category': 'Title', 'element_id': 'f5a25376ceb9e9392b4e0b2b60153cca'}, page_content='创建文本分类管道')\n",
      "Document(metadata={'source': 'asset/load/06-load.md', 'languages': ['eng'], 'file_directory': 'asset/load', 'filename': '06-load.md', 'filetype': 'text/markdown', 'last_modified': '2025-07-06T17:06:09', 'parent_id': 'f5a25376ceb9e9392b4e0b2b60153cca', 'category': 'UncategorizedText', 'element_id': '9745c5d59a60933121ca91a9b71e6acf'}, page_content='classifier = pipeline(\"text-classification\", model=\"bert-base-chinese\")')\n",
      "Document(metadata={'source': 'asset/load/06-load.md', 'languages': ['eng'], 'file_directory': 'asset/load', 'filename': '06-load.md', 'filetype': 'text/markdown', 'last_modified': '2025-07-06T17:06:09', 'parent_id': 'f5a25376ceb9e9392b4e0b2b60153cca', 'category': 'UncategorizedText', 'element_id': '7ebd846af465424c8c01cb58cfa79c86'}, page_content='result = classifier(\"这家餐厅的服务很棒！\") print(result)')\n"
     ]
    }
   ],
   "execution_count": 43
  },
  {
   "metadata": {},
   "cell_type": "markdown",
   "source": "# 7、加载指定的文件目录\n",
   "id": "e164d35b2f24f325"
  },
  {
   "metadata": {
    "ExecuteTime": {
     "end_time": "2025-09-09T14:39:06.382555Z",
     "start_time": "2025-09-09T14:39:06.351536Z"
    }
   },
   "cell_type": "code",
   "source": [
    "# 1.导入相关的依赖\n",
    "from langchain.document_loaders import DirectoryLoader\n",
    "from langchain.document_loaders import PythonLoader\n",
    "from pprint import pprint\n",
    "\n",
    "# 2.定义DirectoryLoader对象,指定要加载的文件夹路径、要加载的文件类型和是否使用多线程\n",
    "directory_loader = DirectoryLoader(\n",
    "    path=\"./asset/load\",\n",
    "    glob=\"*.py\",\n",
    "    use_multithreading=True,\n",
    "    show_progress=True,\n",
    "    loader_cls=PythonLoader\n",
    ")\n",
    "\n",
    "# 3.加载\n",
    "docs = directory_loader.load()\n",
    "\n",
    "# 4.打印\n",
    "print(len(docs))\n",
    "for doc in docs:\n",
    "    pprint(doc)"
   ],
   "id": "260d5d4dc0b2ddd0",
   "outputs": [
    {
     "name": "stderr",
     "output_type": "stream",
     "text": [
      "100%|██████████| 4/4 [00:00<00:00, 2000.38it/s]"
     ]
    },
    {
     "name": "stdout",
     "output_type": "stream",
     "text": [
      "4\n",
      "Document(metadata={'source': 'asset\\\\load\\\\07-fun.py'}, page_content='\"\"\"\\n一 函数入门\\n\"\"\"\\n# 1.不使用函数\\n# 打印欢迎信息1\\nprint(\"********************************\")\\nprint(\"*                              *\")\\nprint(\"*     欢迎来到Python世界       *\")\\nprint(\"*                              *\")\\nprint(\"********************************\")\\n\\n# 打印欢迎信息2\\nprint(\"********************************\")\\nprint(\"*                              *\")\\nprint(\"*     欢迎来到Python世界       *\")\\nprint(\"*                              *\")\\nprint(\"********************************\")\\n\\n# 打印欢迎信息3\\nprint(\"********************************\")\\nprint(\"*                              *\")\\nprint(\"*     欢迎来到Python世界       *\")\\nprint(\"*                              *\")\\nprint(\"********************************\")\\n\\n# 2.使用函数\\ndef print_welcome():\\n    \"\"\"打印欢迎信息\"\"\"\\n    print(\"********************************\")\\n    print(\"*                              *\")\\n    print(\"*     欢迎来到Python世界       *\")\\n    print(\"*                              *\")\\n    print(\"********************************\")\\n\\n# 多次调用函数打印欢迎信息\\nprint_welcome()\\nprint_welcome()\\nprint_welcome()')\n",
      "Document(metadata={'source': 'asset\\\\load\\\\07-fun_param.py'}, page_content='\"\"\"\\n二 函数参数\\n\"\"\"\\n\\n\\n# 1. 无参数版本 - 只能计算固定的购物车\\ndef calculate_total_no_params():\\n    \"\"\"计算固定购物车总价\"\"\"\\n    prices = [100, 50, 30]  # 商品价格固定写死在函数内\\n    total = 0\\n    for price in prices:\\n        total += price\\n    return total\\n\\n# 只能计算一个固定的购物车\\nprint(f\"购物车总价:{calculate_total_no_params()}\")\\n\\n# 2.有参数版本 - 可以计算任意购物车\\ndef calculate_total(prices):\\n    \"\"\"计算任意购物车总价\"\"\"\\n    total = 0\\n    for price in prices:\\n        total += price\\n    return total\\n\\n# 可以计算任意购物车\\ncart1 = [100, 50, 30]\\ncart2 = [200, 80, 45, 60]\\ncart3 = [75, 90, 120]\\n\\nprint(\"第一个购物车总价:{calculate_total(cart1)}:\")\\nprint(\"第二个购物车总价:{calculate_total(cart2)}\")\\nprint(f\"第三个购物车总价:{calculate_total(cart3)}\")\\n\\n\\n# 3.参数传递\\n# 3.1 不可变类型 函数传递不可变对象\\n\\ndef changeInt(a) :\\n    print(\"函数体中未改变前a的内存地址\",id(a))\\n    a = 10   #底层会创建一个新对象 然后给新对象一个新值\\n    print(\"函数体中改变后a的内存地址\",id(a))\\n\\na = 2 # 创建一个对象 然后给这个对象一个值\\nchangeInt(a)\\nprint(a)\\nprint(\"函数外b的内存地址\",id(a))\\n\\n\\n\\n# 输出结果\\n# 函数体中未改变前a的内存地址 140729722661336\\n# 函数体中改变后a的内存地址 140729722661592\\n# 2\\n# 函数外b的内存地址 140729722661336\\n\\n\\n# 3.2 可变类型 函数传递不可变对象\\n\\ndef changeList(myList) :\\n    myList[1] = 50\\n    print(\"函数内的值\",myList) # [1,50,3]\\n    print(\"函数内列表的内存\",id(myList)) # 0111111\\n\\nmlist = [1,2,3]  # 底层创建一个对象 地址0111111\\nchangeList(mlist)\\nprint(\"函数外的值\",mlist) # # [1,50,3]\\nprint(\"函数外列表的内存\",id(mlist))\\n\\n# 输出结果\\n# 函数内的值 [1, 50, 3]\\n# 函数内列表的内存 1380193079680\\n# 函数外的值 [1, 50, 3]\\n# 函数外列表的内存 1380193079680\\n\\n')\n",
      "Document(metadata={'source': 'asset\\\\load\\\\07-fun_retun.py'}, page_content='\"\"\"\\n四 函数的返回值\\n\"\"\"\\n# 1.返回表达式\\n# 2.不带表达式的 return 语句，返回 None。\\n# 3.函数中如果没有 return 语句，在函数运行结束后也会返回 None。\\n# 4.用变量接收返回结果\\n# 5.return 语句可以返回多个值，多个值会放在一个元组中。\\n\\ndef f(a, b, c):\\n    return a, b, c, [a, b, c]\\nprint(f(1, 2, 3))  # (1, 2, 3, [1, 2, 3])\\n')\n",
      "Document(metadata={'source': 'asset\\\\load\\\\07-param_form.py'}, page_content='\"\"\"\\n三 函数参数形式\\n\"\"\"\\n# 1.位置参数\\n# 2.关键字参数\\n# 3.默认参数\\n# 4.不定长参数\\n# 4.1 带一个*\\ndef printInfo(num,*vartuple):\\n    print(num)\\n    print(vartuple)\\n\\nprintInfo(70,60,50)\\n\\nprint(\"-\" * 20)\\n# 如果不定长的参数后面还有参数,必须通过关键字参数传参\\ndef printInfo1(num1,*vartuple,num) :\\n    print(num)\\n    print(num1)\\n    print(vartuple)\\n\\nprintInfo1(10,20,num = 40)\\n\\nprint(\"-\" * 20)\\n# 如果没有给不定长的参数传参,那么得到的是空元组\\nprintInfo1(70,num = 60)\\n# 4.2 带二个*\\ndef printInfo(num,**vardict):\\n    print(num)\\n    print(vardict)\\n    # return\\n\\nprintInfo(10,key1 = 20,key2 = 30)')\n"
     ]
    },
    {
     "name": "stderr",
     "output_type": "stream",
     "text": [
      "\n"
     ]
    }
   ],
   "execution_count": 44
  }
 ],
 "metadata": {
  "kernelspec": {
   "display_name": "Python 3",
   "language": "python",
   "name": "python3"
  },
  "language_info": {
   "codemirror_mode": {
    "name": "ipython",
    "version": 2
   },
   "file_extension": ".py",
   "mimetype": "text/x-python",
   "name": "python",
   "nbconvert_exporter": "python",
   "pygments_lexer": "ipython2",
   "version": "2.7.6"
  }
 },
 "nbformat": 4,
 "nbformat_minor": 5
}
