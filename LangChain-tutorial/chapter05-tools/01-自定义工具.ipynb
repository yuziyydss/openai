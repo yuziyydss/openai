{
 "cells": [
  {
   "cell_type": "code",
   "execution_count": null,
   "id": "initial_id",
   "metadata": {
    "collapsed": true
   },
   "outputs": [],
   "source": [
    ""
   ]
  },
  {
   "metadata": {},
   "cell_type": "markdown",
   "source": [
    "# 1、使用@tool装饰器定义工具\n",
    "\n",
    "举例1："
   ],
   "id": "7071ea9c24bd519"
  },
  {
   "metadata": {
    "ExecuteTime": {
     "end_time": "2025-09-03T15:24:16.028880Z",
     "start_time": "2025-09-03T15:24:15.504120Z"
    }
   },
   "cell_type": "code",
   "source": [
    "from docutils.nodes import description\n",
    "from langchain_core.tools import tool, StructuredTool\n",
    "from pydantic import BaseModel\n",
    "\n",
    "\n",
    "@tool\n",
    "def add_number(a: int, b: int) -> int:\n",
    "    \"\"\"计算两个整数的和\"\"\"\n",
    "    return a + b\n",
    "\n",
    "\n",
    "print(f\"name = {add_number.name}\")  #默认是函数的名称\n",
    "print(f\"args = {add_number.args}\")\n",
    "print(f\"description = {add_number.description}\")  #默认是函数的说明信息\n",
    "print(f\"return_direct = {add_number.return_direct}\")  #默认值是False\n"
   ],
   "id": "177a731a4e957a8c",
   "outputs": [
    {
     "name": "stdout",
     "output_type": "stream",
     "text": [
      "name = add_number\n",
      "args = {'a': {'title': 'A', 'type': 'integer'}, 'b': {'title': 'B', 'type': 'integer'}}\n",
      "description = 计算两个整数的和\n",
      "return_direct = False\n"
     ]
    }
   ],
   "execution_count": 1
  },
  {
   "metadata": {},
   "cell_type": "markdown",
   "source": "举例2：\n",
   "id": "7d5a68e413126cc8"
  },
  {
   "metadata": {
    "ExecuteTime": {
     "end_time": "2025-09-03T15:26:20.393370Z",
     "start_time": "2025-09-03T15:26:20.385842Z"
    }
   },
   "cell_type": "code",
   "source": [
    "from langchain_core.tools import tool\n",
    "\n",
    "\n",
    "@tool(name_or_callable=\"add_two_number\", description=\"add two numbers\", return_direct=True)\n",
    "def add_number(a: int, b: int) -> int:\n",
    "    \"\"\"计算两个整数的和\"\"\"\n",
    "    return a + b\n",
    "\n",
    "\n",
    "print(f\"name = {add_number.name}\")  #add_two_number\n",
    "print(f\"args = {add_number.args}\")\n",
    "print(f\"description = {add_number.description}\")  #add two numbers\n",
    "print(f\"return_direct = {add_number.return_direct}\")  #True\n",
    "\n",
    "\n",
    "\n"
   ],
   "id": "38a9d2d66b0042f",
   "outputs": [
    {
     "name": "stdout",
     "output_type": "stream",
     "text": [
      "name = add_two_number\n",
      "args = {'a': {'title': 'A', 'type': 'integer'}, 'b': {'title': 'B', 'type': 'integer'}}\n",
      "description = add two numbers\n",
      "return_direct = True\n"
     ]
    }
   ],
   "execution_count": 2
  },
  {
   "metadata": {
    "ExecuteTime": {
     "end_time": "2025-09-03T15:27:35.133580Z",
     "start_time": "2025-09-03T15:27:35.085250Z"
    }
   },
   "cell_type": "code",
   "source": [
    "#调用工具\n",
    "add_number.invoke({\"a\": 10, \"b\": 20})\n"
   ],
   "id": "f4d3c6e3e51b0e8e",
   "outputs": [
    {
     "data": {
      "text/plain": [
       "30"
      ]
     },
     "execution_count": 3,
     "metadata": {},
     "output_type": "execute_result"
    }
   ],
   "execution_count": 3
  },
  {
   "metadata": {},
   "cell_type": "markdown",
   "source": "举例3：修改args参数的描述",
   "id": "c174afaeaf8ddb9d"
  },
  {
   "metadata": {
    "ExecuteTime": {
     "end_time": "2025-09-03T15:29:52.901097Z",
     "start_time": "2025-09-03T15:29:52.885240Z"
    }
   },
   "cell_type": "code",
   "source": [
    "from pydantic import Field\n",
    "from langchain_core.tools import tool\n",
    "from pydantic import BaseModel\n",
    "\n",
    "\n",
    "class FieldInfo(BaseModel):\n",
    "    a: int = Field(description=\"第1个整型参数\")\n",
    "    b: int = Field(description=\"第2个整型参数\")\n",
    "\n",
    "\n",
    "@tool(name_or_callable=\"add_two_number\", description=\"add two numbers\", return_direct=True, args_schema=FieldInfo)\n",
    "def add_number(a: int, b: int) -> int:\n",
    "    \"\"\"计算两个整数的和\"\"\"\n",
    "    return a + b\n",
    "\n",
    "\n",
    "print(f\"name = {add_number.name}\")  #add_two_number\n",
    "print(f\"args = {add_number.args}\")\n",
    "print(f\"description = {add_number.description}\")  #add two numbers\n",
    "print(f\"return_direct = {add_number.return_direct}\")  #True"
   ],
   "id": "a8c1b26f012db787",
   "outputs": [
    {
     "name": "stdout",
     "output_type": "stream",
     "text": [
      "name = add_two_number\n",
      "args = {'a': {'description': '第1个整型参数', 'title': 'A', 'type': 'integer'}, 'b': {'description': '第2个整型参数', 'title': 'B', 'type': 'integer'}}\n",
      "description = add two numbers\n",
      "return_direct = True\n"
     ]
    }
   ],
   "execution_count": 5
  },
  {
   "metadata": {},
   "cell_type": "markdown",
   "source": [
    "# 2、StructuredTool的from_function()的使用\n",
    "\n",
    "举例1："
   ],
   "id": "fe4c64806ea024e0"
  },
  {
   "metadata": {
    "ExecuteTime": {
     "end_time": "2025-09-08T02:06:11.796544Z",
     "start_time": "2025-09-08T02:06:11.787868Z"
    }
   },
   "cell_type": "code",
   "source": [
    "from langchain_core.tools.structured import StructuredTool\n",
    "\n",
    "\n",
    "# 声明一个函数\n",
    "def search_google(query: str):\n",
    "    return \"最后查询的结果\"\n",
    "\n",
    "\n",
    "# 定义一个工具\n",
    "search01 = StructuredTool.from_function(\n",
    "    func=search_google,\n",
    "    name=\"Search\",\n",
    "    description=\"查询google搜索引擎，并将结果返回\"\n",
    ")\n",
    "\n",
    "print(f\"name = {search01.name}\")\n",
    "print(f\"args = {search01.args}\")\n",
    "print(f\"description = {search01.description}\")\n",
    "print(f\"return_direct = {search01.return_direct}\")"
   ],
   "id": "3ef02db94cbfc8a7",
   "outputs": [
    {
     "name": "stdout",
     "output_type": "stream",
     "text": [
      "name = Search\n",
      "args = {'query': {'title': 'Query', 'type': 'string'}}\n",
      "description = 查询google搜索引擎，并将结果返回\n",
      "return_direct = False\n"
     ]
    }
   ],
   "execution_count": 6
  },
  {
   "metadata": {
    "ExecuteTime": {
     "end_time": "2025-09-08T02:04:52.325583Z",
     "start_time": "2025-09-08T02:04:52.273890Z"
    }
   },
   "cell_type": "code",
   "source": "search01.invoke({\"query\":\"中美AI的发展现状\"})",
   "id": "c3e750a6d2174056",
   "outputs": [
    {
     "data": {
      "text/plain": [
       "'最后查询的结果'"
      ]
     },
     "execution_count": 5,
     "metadata": {},
     "output_type": "execute_result"
    }
   ],
   "execution_count": 5
  },
  {
   "metadata": {},
   "cell_type": "markdown",
   "source": "举例2：\n",
   "id": "8f40b5e91f838718"
  },
  {
   "metadata": {
    "ExecuteTime": {
     "end_time": "2025-09-08T02:08:42.296551Z",
     "start_time": "2025-09-08T02:08:42.279868Z"
    }
   },
   "cell_type": "code",
   "source": [
    "from langchain_core.tools.structured import StructuredTool\n",
    "from pydantic import BaseModel,Field\n",
    "\n",
    "class FieldInfo(BaseModel):\n",
    "    query: str = Field(description=\"要检索的关键词\")\n",
    "\n",
    "\n",
    "# 声明一个函数\n",
    "def search_google(query: str):\n",
    "    return \"最后查询的结果\"\n",
    "\n",
    "\n",
    "# 定义一个工具\n",
    "search02 = StructuredTool.from_function(\n",
    "    func=search_google,\n",
    "    name=\"Search\",\n",
    "    description=\"查询google搜索引擎，并将结果返回\",\n",
    "    return_direct=True,\n",
    "    args_schema=FieldInfo\n",
    ")\n",
    "\n",
    "print(f\"name = {search02.name}\")\n",
    "print(f\"args = {search02.args}\")\n",
    "print(f\"description = {search02.description}\")\n",
    "print(f\"return_direct = {search02.return_direct}\")"
   ],
   "id": "2fe2145f1a142977",
   "outputs": [
    {
     "name": "stdout",
     "output_type": "stream",
     "text": [
      "name = Search\n",
      "args = {'query': {'description': '要检索的关键词', 'title': 'Query', 'type': 'string'}}\n",
      "description = 查询google搜索引擎，并将结果返回\n",
      "return_direct = True\n"
     ]
    }
   ],
   "execution_count": 11
  }
 ],
 "metadata": {
  "kernelspec": {
   "display_name": "Python 3",
   "language": "python",
   "name": "python3"
  },
  "language_info": {
   "codemirror_mode": {
    "name": "ipython",
    "version": 2
   },
   "file_extension": ".py",
   "mimetype": "text/x-python",
   "name": "python",
   "nbconvert_exporter": "python",
   "pygments_lexer": "ipython2",
   "version": "2.7.6"
  }
 },
 "nbformat": 4,
 "nbformat_minor": 5
}
